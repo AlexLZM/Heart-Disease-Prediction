{
  "nbformat": 4,
  "nbformat_minor": 0,
  "metadata": {
    "kernelspec": {
      "display_name": "Python 3",
      "language": "python",
      "name": "python3"
    },
    "language_info": {
      "codemirror_mode": {
        "name": "ipython",
        "version": 3
      },
      "file_extension": ".py",
      "mimetype": "text/x-python",
      "name": "python",
      "nbconvert_exporter": "python",
      "pygments_lexer": "ipython3",
      "version": "3.8.5"
    },
    "colab": {
      "name": "ML lab Final Project.ipynb",
      "provenance": [],
      "include_colab_link": true
    }
  },
  "cells": [
    {
      "cell_type": "markdown",
      "metadata": {
        "id": "view-in-github",
        "colab_type": "text"
      },
      "source": [
        "<a href=\"https://colab.research.google.com/github/AlexLZM/ML-lab-Final-Project/blob/main/ML_lab_Final_Project.ipynb\" target=\"_parent\"><img src=\"https://colab.research.google.com/assets/colab-badge.svg\" alt=\"Open In Colab\"/></a>"
      ]
    },
    {
      "cell_type": "code",
      "metadata": {
        "id": "2a0R4EMGJeNz"
      },
      "source": [
        "import numpy as np\n",
        "import pandas as pd\n",
        "import sklearn\n",
        "from sklearn.base import BaseEstimator\n",
        "from sklearn.compose import *\n",
        "from sklearn.ensemble import (\n",
        "    AdaBoostClassifier,\n",
        "    GradientBoostingClassifier,\n",
        "    HistGradientBoostingClassifier,\n",
        "    RandomForestClassifier,\n",
        "    StackingClassifier,\n",
        "    VotingClassifier,\n",
        ")\n",
        "from sklearn.experimental import enable_hist_gradient_boosting, enable_iterative_imputer\n",
        "from sklearn.impute import *\n",
        "from sklearn.inspection import permutation_importance\n",
        "from sklearn.metrics import *\n",
        "from sklearn.model_selection import *\n",
        "from sklearn.pipeline import Pipeline\n",
        "from sklearn.preprocessing import *\n",
        "\n",
        "\n",
        "class DummyEstimator(BaseEstimator):\n",
        "    def fit(self): pass\n",
        "    def score(self): pass"
      ],
      "execution_count": null,
      "outputs": []
    },
    {
      "cell_type": "markdown",
      "metadata": {
        "id": "z7slFm0MJeN1"
      },
      "source": [
        "# MSDS 699 Final Project\n",
        "\n",
        "## Student: Zhimin Lyu"
      ]
    },
    {
      "cell_type": "markdown",
      "metadata": {
        "id": "d-L5ngOyJeN2"
      },
      "source": [
        "## Project description"
      ]
    },
    {
      "cell_type": "markdown",
      "metadata": {
        "id": "At3u7aboJeN2"
      },
      "source": [
        "This dataset gives information of patients related to heart disease. Dataset contains 13 features of patients' conditons and test results, target variable is the fact that the patient has heart disease or not. \n",
        "\n",
        "In the project, we set the aim to build a decent model to predict the target variable (disease\\non disease) by comparing different machine learning algorithms.\n",
        "\n",
        "<b>Data Attribute Information</b>\n",
        "\n",
        "Age (age in years)\n",
        "\n",
        "Sex (1 = male; 0 = female)\n",
        "\n",
        "CP (chest pain type)\n",
        "\n",
        "TRESTBPS (resting blood pressure (in mm Hg on admission to the hospital))\n",
        "\n",
        "CHOL (serum cholestoral in mg/dl)\n",
        "\n",
        "FPS (fasting blood sugar > 120 mg/dl) (1 = true; 0 = false)\n",
        "\n",
        "RESTECH (resting electrocardiographic results)\n",
        "\n",
        "THALACH (maximum heart rate achieved)\n",
        "\n",
        "EXANG (exercise induced angina (1 = yes; 0 = no))\n",
        "\n",
        "OLDPEAK (ST depression induced by exercise relative to rest)\n",
        "\n",
        "SLOPE (the slope of the peak exercise ST segment)\n",
        "\n",
        "CA (number of major vessels (0-3) colored by flourosopy)\n",
        "\n",
        "THAL (3 = normal; 6 = fixed defect; 7 = reversable defect)\n",
        "\n",
        "Disease (has heart disease or not: 1 or 0)"
      ]
    },
    {
      "cell_type": "markdown",
      "metadata": {
        "id": "b4Ewn7jpJeN2"
      },
      "source": [
        "## Load Data"
      ]
    },
    {
      "cell_type": "code",
      "metadata": {
        "id": "pIj1VjfAJeN2"
      },
      "source": [
        "data = pd.read_csv(\n",
        "    'https://github.com/AlexLZM/Testit/raw/main/Heart_Disease%20(1).csv')"
      ],
      "execution_count": null,
      "outputs": []
    },
    {
      "cell_type": "code",
      "metadata": {
        "id": "7af6I0OcJeN3"
      },
      "source": [
        "# Data split\n",
        "X, y = data.iloc[:, :-1], data.iloc[:, -1]\n",
        "X_train, X_test, y_train, y_test = train_test_split(X, y)"
      ],
      "execution_count": null,
      "outputs": []
    },
    {
      "cell_type": "markdown",
      "metadata": {
        "id": "QAckMB0UJeN3"
      },
      "source": [
        "## Fit scikit-learn model"
      ]
    },
    {
      "cell_type": "markdown",
      "metadata": {
        "id": "ovGoDKtOJeN3"
      },
      "source": [
        "<b>Create pipeline for categorical and numeric values</b>"
      ]
    },
    {
      "cell_type": "code",
      "metadata": {
        "id": "bHibM38fJeN3"
      },
      "source": [
        "\n",
        "# seperate categorical and numerical based on domain knowlage\n",
        "cate = [0, 2, 3, 7, 9, 11, 13]\n",
        "nume = [1, 4, 5, 6, 8, 9, 12]\n",
        "\n",
        "con_pipe = Pipeline([('sca', StandardScaler()),  # apply standardscaler to numeric features\n",
        "                     ('imputer', SimpleImputer(strategy='median'))])  # fill null value with median\n",
        "cat_pipe = Pipeline([('str',\n",
        "                      FunctionTransformer(lambda x:(x.astype(str)),\n",
        "                                          validate=False)),  # transform integer categoricals in to string\n",
        "                     # fill null value with 'unknown'\n",
        "                     ('imputer', SimpleImputer(\n",
        "                         strategy='constant', fill_value='unknown')),\n",
        "                     ('encoder', OneHotEncoder(handle_unknown='ignore'))])  # apply one-hot encoder to categoricals\n",
        "prep = ColumnTransformer(\n",
        "    [('conti', con_pipe, nume), ('cate', cat_pipe, cate)])\n",
        "# Dummy for Randomized search\n",
        "pipe = Pipeline([('prep', prep), ('clf', DummyEstimator())])"
      ],
      "execution_count": null,
      "outputs": []
    },
    {
      "cell_type": "code",
      "metadata": {
        "id": "m1UxbgCWJeN4",
        "outputId": "f535dbde-962a-4927-a6a7-d3fcfa4e809f"
      },
      "source": [
        "# Randomized search withing hyperparameters and model families\n",
        "search_space = [{'clf': [RandomForestClassifier(n_jobs=-1)],  # Estimator 1\n",
        "                 # controls dependence of trees\n",
        "                 'clf__max_features': np.arange(0.1, 0.6, 0.1),\n",
        "                 # should be enough to converge to minimum validation loss\n",
        "                 'clf__n_estimators': np.arange(100, 1000, 100),\n",
        "                 # control tree size to reduce overfitting\n",
        "                 'clf__min_samples_leaf':np.arange(1, 22, 5),\n",
        "                 # control tree size to reduce overfitting\n",
        "                 'clf__max_depth': np.arange(1, 22, 2),\n",
        "                 # control tree size to reduce overfitting\n",
        "                 'clf__max_leaf_nodes': np.arange(10, 200, 20),\n",
        "                 # bootstrap/subsampling choice\n",
        "                 'clf__bootstrap': [True, False],\n",
        "                 # control tree size to reduce overfitting\n",
        "                 'clf__min_samples_split': np.arange(2, 22, 2)\n",
        "                 },\n",
        "\n",
        "                {'clf': [GradientBoostingClassifier()],  # Estimator 2\n",
        "                 # combine with learning rate to reduce overfitting\n",
        "                 'clf__n_estimators': np.arange(100, 1000, 100),\n",
        "                 # control tree size to reduce overfitting\n",
        "                 'clf__min_samples_leaf':np.arange(1, 22, 5),\n",
        "                 # control tree size to reduce overfitting\n",
        "                 'clf__max_depth': np.arange(1, 22, 2),\n",
        "                 # lower lr means slower fitting process\n",
        "                 'clf__learning_rate':np.arange(0.1, 1.1, 0.1),\n",
        "                 # control tree size to reduce overfitting\n",
        "                 'clf__max_leaf_nodes': np.arange(10, 200, 20),\n",
        "                 # control tree size to reduce overfitting\n",
        "                 'clf__min_samples_split': np.arange(2, 22, 2)\n",
        "                 },\n",
        "                {'clf': [AdaBoostClassifier()],  # Estimator 3\n",
        "                 # combine with learning rate to reduce overfitting\n",
        "                 'clf__n_estimators': np.arange(100, 1000, 100),\n",
        "                 # lower lr means slower fitting process\n",
        "                 'clf__learning_rate':np.arange(0.1, 1.1, 0.1),\n",
        "                 },\n",
        "                {'clf': [HistGradientBoostingClassifier()],  # Estimator 4\n",
        "                 # control tree size to reduce overfitting\n",
        "                 'clf__min_samples_leaf':np.arange(1, 22, 5),\n",
        "                 # control tree size to reduce overfitting\n",
        "                 'clf__max_depth': np.arange(1, 22, 2),\n",
        "                 # control tree size to reduce overfitting\n",
        "                 'clf__max_leaf_nodes': np.arange(10, 200, 20),\n",
        "                 # lower lr means slower fitting process\n",
        "                 'clf__learning_rate':np.arange(0.1, 1.1, 0.1),\n",
        "                 # reduce overfit but increase bias\n",
        "                 'clf__l2_regularization':np.logspace(0.00001, 10, 10)\n",
        "\n",
        "                 }\n",
        "                ]\n",
        "\n",
        "# random search instance\n",
        "rand_search = RandomizedSearchCV(estimator=pipe,\n",
        "                                 param_distributions=search_space,\n",
        "                                 n_iter=200,\n",
        "                                 cv=5,\n",
        "                                 n_jobs=-1,\n",
        "                                 verbose=1, scoring='f1')\n",
        "\n",
        "\n",
        "# Fit the search instance\n",
        "rand_search.fit(X_train, y_train)"
      ],
      "execution_count": null,
      "outputs": [
        {
          "output_type": "stream",
          "text": [
            "Fitting 5 folds for each of 200 candidates, totalling 1000 fits\n"
          ],
          "name": "stdout"
        },
        {
          "output_type": "stream",
          "text": [
            "[Parallel(n_jobs=-1)]: Using backend LokyBackend with 48 concurrent workers.\n",
            "[Parallel(n_jobs=-1)]: Done 104 tasks      | elapsed:    6.0s\n",
            "[Parallel(n_jobs=-1)]: Done 354 tasks      | elapsed:   13.8s\n",
            "[Parallel(n_jobs=-1)]: Done 704 tasks      | elapsed:   24.8s\n",
            "[Parallel(n_jobs=-1)]: Done 1000 out of 1000 | elapsed:   33.0s finished\n"
          ],
          "name": "stderr"
        },
        {
          "output_type": "execute_result",
          "data": {
            "text/plain": [
              "RandomizedSearchCV(cv=5,\n",
              "                   estimator=Pipeline(steps=[('prep',\n",
              "                                              ColumnTransformer(transformers=[('conti',\n",
              "                                                                               Pipeline(steps=[('sca',\n",
              "                                                                                                StandardScaler()),\n",
              "                                                                                               ('imputer',\n",
              "                                                                                                SimpleImputer(strategy='median'))]),\n",
              "                                                                               [1,\n",
              "                                                                                4,\n",
              "                                                                                5,\n",
              "                                                                                6,\n",
              "                                                                                8,\n",
              "                                                                                9,\n",
              "                                                                                12]),\n",
              "                                                                              ('cate',\n",
              "                                                                               Pipeline(steps=[('str',\n",
              "                                                                                                FunctionTransformer(func=<function <lambda> at 0x7fd0b8185ee0>)),\n",
              "                                                                                               ('imputer',\n",
              "                                                                                                SimpleImputer(fill_value='unknown',\n",
              "                                                                                                              strate...\n",
              "       2.78259500e+04, 3.59385044e+05, 4.64162446e+06, 5.99487318e+07,\n",
              "       7.74265664e+08, 1.00000000e+10]),\n",
              "                                         'clf__learning_rate': array([0.1, 0.2, 0.3, 0.4, 0.5, 0.6, 0.7, 0.8, 0.9, 1. ]),\n",
              "                                         'clf__max_depth': array([ 1,  3,  5,  7,  9, 11, 13, 15, 17, 19, 21]),\n",
              "                                         'clf__max_leaf_nodes': array([ 10,  30,  50,  70,  90, 110, 130, 150, 170, 190]),\n",
              "                                         'clf__min_samples_leaf': array([ 1,  6, 11, 16, 21])}],\n",
              "                   scoring='f1', verbose=1)"
            ]
          },
          "metadata": {
            "tags": []
          },
          "execution_count": 5
        }
      ]
    },
    {
      "cell_type": "code",
      "metadata": {
        "id": "7iGRp1G9JeN4",
        "outputId": "946b8255-8062-4f81-e4bb-65659c83a359"
      },
      "source": [
        "print(rand_search.best_params_, rand_search.best_score_)"
      ],
      "execution_count": null,
      "outputs": [
        {
          "output_type": "stream",
          "text": [
            "{'clf__n_estimators': 500, 'clf__min_samples_split': 6, 'clf__min_samples_leaf': 6, 'clf__max_leaf_nodes': 50, 'clf__max_features': 0.1, 'clf__max_depth': 9, 'clf__bootstrap': False, 'clf': RandomForestClassifier(bootstrap=False, max_depth=9, max_features=0.1,\n",
            "                       max_leaf_nodes=50, min_samples_leaf=6,\n",
            "                       min_samples_split=6, n_estimators=500, n_jobs=-1)} 0.8394431235053629\n"
          ],
          "name": "stdout"
        }
      ]
    },
    {
      "cell_type": "code",
      "metadata": {
        "colab": {
          "referenced_widgets": [
            "785d595da9564928bb18ae82ea719e2a"
          ]
        },
        "id": "XABsHKTBJeN5",
        "outputId": "db8df412-648e-4de6-ca0d-f9685c6f67e9"
      },
      "source": [
        "# Baysian Optimization for Hyperparameters\n",
        "# Caution!! Takes long time!\n",
        "import optuna\n",
        "\n",
        "\n",
        "def objective(trial):\n",
        "\n",
        "    # Invoke suggest methods of a Trial object to generate hyperparameters.\n",
        "    classifier_names = trial.suggest_categorical(\n",
        "        'reg', ['pipe1', 'pipe2', 'pipe3', 'pipe4'])\n",
        "    if classifier_names == 'pipe1':\n",
        "        n_esti = trial.suggest_int('n_esti', 100, 1000)\n",
        "        msl = trial.suggest_int('msl', 1, 20)\n",
        "        md = trial.suggest_int('md', 1, 20)\n",
        "        mf = trial.suggest_uniform('mf', 0.1, 0.5)\n",
        "        mln = trial.suggest_int('mln', 10, 200)\n",
        "        bs = trial.suggest_categorical('bs', [True, False])\n",
        "        mss = trial.suggest_int('mss', 2, 20)\n",
        "        cw = trial.suggest_categorical(\n",
        "            'cw', ['balanced', 'balanced_subsample', None])\n",
        "\n",
        "        pipee = Pipeline([('prep', prep),\n",
        "                          ('clf', RandomForestClassifier(max_features=mf,\n",
        "                                                         n_jobs=-1,\n",
        "                                                         n_estimators=n_esti,\n",
        "                                                         min_samples_leaf=msl,\n",
        "                                                         max_depth=md,\n",
        "                                                         class_weight=cw,\n",
        "                                                         max_leaf_nodes=mln,\n",
        "                                                         bootstrap=bs,\n",
        "                                                         min_samples_split=mss\n",
        "                                                         ))])\n",
        "\n",
        "    elif classifier_names == 'pipe2':\n",
        "        n_esti = trial.suggest_int('n_esti', 100, 1000)\n",
        "\n",
        "        learning_rate = trial.suggest_uniform('lr', 0.1, 1)\n",
        "        pipee = Pipeline([('prep', prep), ('clf', AdaBoostClassifier(\n",
        "            n_estimators=n_esti,\n",
        "            learning_rate=learning_rate\n",
        "        ))])\n",
        "    elif classifier_names == 'pipe3':\n",
        "        msl = trial.suggest_int('msl', 1, 20)\n",
        "        md = trial.suggest_int('md', 1, 20)\n",
        "        mln = trial.suggest_int('mln', 10, 200)\n",
        "        learning_rate = trial.suggest_uniform('lr', 0.1, 1)\n",
        "        l2_regularization = trial.suggest_loguniform('l2', 0.00001, 10)\n",
        "        pipee = Pipeline([('prep', prep),\n",
        "                          ('clf', HistGradientBoostingClassifier(\n",
        "                              min_samples_leaf=msl,\n",
        "                              max_depth=md,\n",
        "                              max_leaf_nodes=mln,\n",
        "                              learning_rate=learning_rate,\n",
        "                              l2_regularization=l2_regularization,\n",
        "                              ))])\n",
        "    else:\n",
        "        n_esti = trial.suggest_int('n_esti', 100, 1000)\n",
        "        msl = trial.suggest_int('msl', 1, 20)\n",
        "        md = trial.suggest_int('md', 1, 20)\n",
        "        mln = trial.suggest_int('mln', 10, 200)\n",
        "        mss = trial.suggest_int('mss', 2, 20)\n",
        "        learning_rate = trial.suggest_uniform('lr', 0.1, 1)\n",
        "        pipee = Pipeline([('prep', prep),\n",
        "                          ('clf', GradientBoostingClassifier(\n",
        "                              n_estimators=n_esti,\n",
        "                              min_samples_leaf=msl,\n",
        "                              max_depth=md,\n",
        "                              max_leaf_nodes=mln,\n",
        "                              learning_rate=learning_rate,\n",
        "                              min_samples_split=mss\n",
        "                              ))])\n",
        "\n",
        "    # choose f1 score as it is suitable for both imbalanced data and balanced data\n",
        "    scores = cross_validate(pipee, X_train, y_train,\n",
        "                            scoring='f1', cv=5, n_jobs=-1)\n",
        "\n",
        "    error = -np.mean(scores['test_score'])\n",
        "\n",
        "    return error  # An objective value linked with the Trial object.\n",
        "\n",
        "\n",
        "study = optuna.create_study()  # Create a new study.\n",
        "study.optimize(objective, n_trials=100, n_jobs=1, show_progress_bar=1)\n",
        "print(study.best_params)\n",
        "study.trials_dataframe().sort_values('value').head(10)"
      ],
      "execution_count": null,
      "outputs": [
        {
          "output_type": "stream",
          "text": [
            "\u001b[32m[I 2021-03-09 23:21:56,084]\u001b[0m A new study created in memory with name: no-name-2e802082-f46a-4e73-959c-db75b402a3f0\u001b[0m\n",
            "/home/zlyu/anaconda3/lib/python3.8/site-packages/optuna/progress_bar.py:47: ExperimentalWarning: Progress bar is experimental (supported from v1.2.0). The interface can change in the future.\n",
            "  self._init_valid()\n"
          ],
          "name": "stderr"
        },
        {
          "output_type": "display_data",
          "data": {
            "application/vnd.jupyter.widget-view+json": {
              "model_id": "785d595da9564928bb18ae82ea719e2a",
              "version_major": 2,
              "version_minor": 0
            },
            "text/plain": [
              "HBox(children=(HTML(value=''), FloatProgress(value=0.0, max=150.0), HTML(value='')))"
            ]
          },
          "metadata": {
            "tags": []
          }
        },
        {
          "output_type": "stream",
          "text": [
            "\u001b[32m[I 2021-03-09 23:21:59,776]\u001b[0m Trial 0 finished with value: -0.7566590828476268 and parameters: {'reg': 'pipe4', 'n_esti': 948, 'msl': 1, 'md': 13, 'mln': 179, 'mss': 17, 'lr': 0.16282386367513363}. Best is trial 0 with value: -0.7566590828476268.\u001b[0m\n",
            "\u001b[32m[I 2021-03-09 23:22:01,394]\u001b[0m Trial 1 finished with value: -0.7450046861457169 and parameters: {'reg': 'pipe4', 'n_esti': 691, 'msl': 10, 'md': 16, 'mln': 28, 'mss': 6, 'lr': 0.5438630242165365}. Best is trial 0 with value: -0.7566590828476268.\u001b[0m\n",
            "\u001b[32m[I 2021-03-09 23:22:01,512]\u001b[0m Trial 2 finished with value: -0.8103499651640197 and parameters: {'reg': 'pipe3', 'msl': 13, 'md': 2, 'mln': 138, 'lr': 0.7970155110261475, 'l2': 1.1304784152803096}. Best is trial 2 with value: -0.8103499651640197.\u001b[0m\n",
            "\u001b[32m[I 2021-03-09 23:22:03,193]\u001b[0m Trial 3 finished with value: -0.8028961865574828 and parameters: {'reg': 'pipe2', 'n_esti': 999, 'lr': 0.5531559708372202}. Best is trial 2 with value: -0.8103499651640197.\u001b[0m\n",
            "\u001b[32m[I 2021-03-09 23:22:04,147]\u001b[0m Trial 4 finished with value: -0.8294207131684661 and parameters: {'reg': 'pipe1', 'n_esti': 641, 'msl': 15, 'md': 17, 'mf': 0.15074435529835242, 'mln': 34, 'bs': True, 'mss': 3, 'cw': None}. Best is trial 4 with value: -0.8294207131684661.\u001b[0m\n",
            "\u001b[32m[I 2021-03-09 23:22:05,286]\u001b[0m Trial 5 finished with value: -0.791558329502311 and parameters: {'reg': 'pipe3', 'msl': 2, 'md': 18, 'mln': 94, 'lr': 0.8577012589517099, 'l2': 0.13925627232892118}. Best is trial 4 with value: -0.8294207131684661.\u001b[0m\n",
            "\u001b[32m[I 2021-03-09 23:22:05,509]\u001b[0m Trial 6 finished with value: -0.8107840440810561 and parameters: {'reg': 'pipe1', 'n_esti': 115, 'msl': 17, 'md': 13, 'mf': 0.3902690928237531, 'mln': 25, 'bs': True, 'mss': 5, 'cw': 'balanced'}. Best is trial 4 with value: -0.8294207131684661.\u001b[0m\n",
            "\u001b[32m[I 2021-03-09 23:22:06,101]\u001b[0m Trial 7 finished with value: -0.8241171963944348 and parameters: {'reg': 'pipe1', 'n_esti': 491, 'msl': 19, 'md': 20, 'mf': 0.33116845029724307, 'mln': 199, 'bs': False, 'mss': 4, 'cw': None}. Best is trial 4 with value: -0.8294207131684661.\u001b[0m\n",
            "\u001b[32m[I 2021-03-09 23:22:06,519]\u001b[0m Trial 8 finished with value: -0.8127463311850779 and parameters: {'reg': 'pipe3', 'msl': 1, 'md': 7, 'mln': 161, 'lr': 0.6826863376840331, 'l2': 0.0025079838085831324}. Best is trial 4 with value: -0.8294207131684661.\u001b[0m\n",
            "\u001b[32m[I 2021-03-09 23:22:07,411]\u001b[0m Trial 9 finished with value: -0.765194805194805 and parameters: {'reg': 'pipe4', 'n_esti': 267, 'msl': 9, 'md': 19, 'mln': 84, 'mss': 19, 'lr': 0.839911071186924}. Best is trial 4 with value: -0.8294207131684661.\u001b[0m\n",
            "\u001b[32m[I 2021-03-09 23:22:08,470]\u001b[0m Trial 10 finished with value: -0.8291932587017363 and parameters: {'reg': 'pipe1', 'n_esti': 704, 'msl': 15, 'md': 8, 'mf': 0.11515878321645165, 'mln': 52, 'bs': True, 'mss': 12, 'cw': None}. Best is trial 4 with value: -0.8294207131684661.\u001b[0m\n",
            "\u001b[32m[I 2021-03-09 23:22:09,509]\u001b[0m Trial 11 finished with value: -0.8339846033489797 and parameters: {'reg': 'pipe1', 'n_esti': 699, 'msl': 15, 'md': 7, 'mf': 0.10942417132953389, 'mln': 57, 'bs': True, 'mss': 13, 'cw': None}. Best is trial 11 with value: -0.8339846033489797.\u001b[0m\n",
            "\u001b[32m[I 2021-03-09 23:22:10,747]\u001b[0m Trial 12 finished with value: -0.8289118572160048 and parameters: {'reg': 'pipe1', 'n_esti': 593, 'msl': 13, 'md': 4, 'mf': 0.11692019734360219, 'mln': 53, 'bs': True, 'mss': 12, 'cw': 'balanced_subsample'}. Best is trial 11 with value: -0.8339846033489797.\u001b[0m\n",
            "\u001b[32m[I 2021-03-09 23:22:11,966]\u001b[0m Trial 13 finished with value: -0.8236813895012627 and parameters: {'reg': 'pipe1', 'n_esti': 830, 'msl': 20, 'md': 9, 'mf': 0.20635982662863897, 'mln': 11, 'bs': True, 'mss': 15, 'cw': None}. Best is trial 11 with value: -0.8339846033489797.\u001b[0m\n",
            "\u001b[32m[I 2021-03-09 23:22:12,673]\u001b[0m Trial 14 finished with value: -0.8306908721908721 and parameters: {'reg': 'pipe1', 'n_esti': 455, 'msl': 6, 'md': 5, 'mf': 0.212206628167593, 'mln': 60, 'bs': True, 'mss': 9, 'cw': None}. Best is trial 11 with value: -0.8339846033489797.\u001b[0m\n",
            "\u001b[32m[I 2021-03-09 23:22:13,384]\u001b[0m Trial 15 finished with value: -0.8204410393071285 and parameters: {'reg': 'pipe2', 'n_esti': 402, 'lr': 0.1651201063893324}. Best is trial 11 with value: -0.8339846033489797.\u001b[0m\n",
            "\u001b[32m[I 2021-03-09 23:22:13,974]\u001b[0m Trial 16 finished with value: -0.834452494355612 and parameters: {'reg': 'pipe1', 'n_esti': 366, 'msl': 6, 'md': 5, 'mf': 0.2067769101648083, 'mln': 69, 'bs': True, 'mss': 8, 'cw': None}. Best is trial 16 with value: -0.834452494355612.\u001b[0m\n",
            "\u001b[32m[I 2021-03-09 23:22:14,435]\u001b[0m Trial 17 finished with value: -0.7795644809802453 and parameters: {'reg': 'pipe1', 'n_esti': 332, 'msl': 5, 'md': 1, 'mf': 0.2408942573902436, 'mln': 120, 'bs': False, 'mss': 9, 'cw': 'balanced'}. Best is trial 16 with value: -0.834452494355612.\u001b[0m\n",
            "\u001b[32m[I 2021-03-09 23:22:14,762]\u001b[0m Trial 18 finished with value: -0.8185940879596252 and parameters: {'reg': 'pipe2', 'n_esti': 178, 'lr': 0.34481223161231955}. Best is trial 16 with value: -0.834452494355612.\u001b[0m\n",
            "\u001b[32m[I 2021-03-09 23:22:16,415]\u001b[0m Trial 19 finished with value: -0.8216126571840856 and parameters: {'reg': 'pipe1', 'n_esti': 808, 'msl': 7, 'md': 5, 'mf': 0.2780595097591515, 'mln': 88, 'bs': True, 'mss': 15, 'cw': 'balanced_subsample'}. Best is trial 16 with value: -0.834452494355612.\u001b[0m\n",
            "\u001b[32m[I 2021-03-09 23:22:17,259]\u001b[0m Trial 20 finished with value: -0.8284083293472261 and parameters: {'reg': 'pipe1', 'n_esti': 514, 'msl': 4, 'md': 12, 'mf': 0.4889784199375429, 'mln': 71, 'bs': True, 'mss': 8, 'cw': None}. Best is trial 16 with value: -0.834452494355612.\u001b[0m\n",
            "\u001b[32m[I 2021-03-09 23:22:18,023]\u001b[0m Trial 21 finished with value: -0.8322488152119781 and parameters: {'reg': 'pipe1', 'n_esti': 447, 'msl': 6, 'md': 5, 'mf': 0.1928915818687252, 'mln': 59, 'bs': True, 'mss': 10, 'cw': None}. Best is trial 16 with value: -0.834452494355612.\u001b[0m\n",
            "\u001b[32m[I 2021-03-09 23:22:18,593]\u001b[0m Trial 22 finished with value: -0.8292764853257605 and parameters: {'reg': 'pipe1', 'n_esti': 359, 'msl': 8, 'md': 3, 'mf': 0.1625223356343363, 'mln': 107, 'bs': True, 'mss': 11, 'cw': None}. Best is trial 16 with value: -0.834452494355612.\u001b[0m\n",
            "\u001b[32m[I 2021-03-09 23:22:19,025]\u001b[0m Trial 23 finished with value: -0.8336147214458473 and parameters: {'reg': 'pipe1', 'n_esti': 246, 'msl': 3, 'md': 6, 'mf': 0.17701635977486133, 'mln': 71, 'bs': True, 'mss': 14, 'cw': None}. Best is trial 16 with value: -0.834452494355612.\u001b[0m\n",
            "\u001b[32m[I 2021-03-09 23:22:19,455]\u001b[0m Trial 24 finished with value: -0.8387559264403046 and parameters: {'reg': 'pipe1', 'n_esti': 255, 'msl': 4, 'md': 10, 'mf': 0.11898199535624102, 'mln': 74, 'bs': True, 'mss': 14, 'cw': None}. Best is trial 24 with value: -0.8387559264403046.\u001b[0m\n",
            "\u001b[32m[I 2021-03-09 23:22:19,926]\u001b[0m Trial 25 finished with value: -0.8374386212585627 and parameters: {'reg': 'pipe1', 'n_esti': 271, 'msl': 12, 'md': 10, 'mf': 0.10933274673175696, 'mln': 39, 'bs': True, 'mss': 13, 'cw': None}. Best is trial 24 with value: -0.8387559264403046.\u001b[0m\n",
            "\u001b[32m[I 2021-03-09 23:22:20,124]\u001b[0m Trial 26 finished with value: -0.835517450066761 and parameters: {'reg': 'pipe1', 'n_esti': 118, 'msl': 12, 'md': 10, 'mf': 0.10377598708942233, 'mln': 42, 'bs': False, 'mss': 17, 'cw': None}. Best is trial 24 with value: -0.8387559264403046.\u001b[0m\n",
            "\u001b[32m[I 2021-03-09 23:22:20,371]\u001b[0m Trial 27 finished with value: -0.8193261298942721 and parameters: {'reg': 'pipe2', 'n_esti': 126, 'lr': 0.3646389601230812}. Best is trial 24 with value: -0.8387559264403046.\u001b[0m\n",
            "\u001b[32m[I 2021-03-09 23:22:20,656]\u001b[0m Trial 28 finished with value: -0.8339602179817067 and parameters: {'reg': 'pipe1', 'n_esti': 201, 'msl': 12, 'md': 11, 'mf': 0.10570655730086673, 'mln': 34, 'bs': False, 'mss': 20, 'cw': None}. Best is trial 24 with value: -0.8387559264403046.\u001b[0m\n",
            "\u001b[32m[I 2021-03-09 23:22:21,095]\u001b[0m Trial 29 finished with value: -0.7929430196320953 and parameters: {'reg': 'pipe4', 'n_esti': 277, 'msl': 11, 'md': 10, 'mln': 10, 'mss': 18, 'lr': 0.9426096953377464}. Best is trial 24 with value: -0.8387559264403046.\u001b[0m\n",
            "\u001b[32m[I 2021-03-09 23:22:21,500]\u001b[0m Trial 30 finished with value: -0.7919084011707307 and parameters: {'reg': 'pipe3', 'msl': 10, 'md': 15, 'mln': 43, 'lr': 0.9876271106858832, 'l2': 1.0325789127540553e-05}. Best is trial 24 with value: -0.8387559264403046.\u001b[0m\n",
            "\u001b[32m[I 2021-03-09 23:22:21,757]\u001b[0m Trial 31 finished with value: -0.8312391869419512 and parameters: {'reg': 'pipe1', 'n_esti': 176, 'msl': 12, 'md': 9, 'mf': 0.1460530413642155, 'mln': 74, 'bs': False, 'mss': 16, 'cw': None}. Best is trial 24 with value: -0.8387559264403046.\u001b[0m\n",
            "\u001b[32m[I 2021-03-09 23:22:22,191]\u001b[0m Trial 32 finished with value: -0.8403330371332098 and parameters: {'reg': 'pipe1', 'n_esti': 320, 'msl': 8, 'md': 11, 'mf': 0.11384348699940089, 'mln': 18, 'bs': False, 'mss': 7, 'cw': None}. Best is trial 32 with value: -0.8403330371332098.\u001b[0m\n",
            "\u001b[32m[I 2021-03-09 23:22:22,439]\u001b[0m Trial 33 finished with value: -0.811860889870184 and parameters: {'reg': 'pipe4', 'n_esti': 106, 'msl': 8, 'md': 11, 'mln': 18, 'mss': 14, 'lr': 0.2834591722571096}. Best is trial 32 with value: -0.8403330371332098.\u001b[0m\n",
            "\u001b[32m[I 2021-03-09 23:22:22,834]\u001b[0m Trial 34 finished with value: -0.8307290439575354 and parameters: {'reg': 'pipe1', 'n_esti': 317, 'msl': 14, 'md': 13, 'mf': 0.10577989765606638, 'mln': 45, 'bs': False, 'mss': 17, 'cw': None}. Best is trial 32 with value: -0.8403330371332098.\u001b[0m\n",
            "\u001b[32m[I 2021-03-09 23:22:23,177]\u001b[0m Trial 35 finished with value: -0.8282704459396187 and parameters: {'reg': 'pipe1', 'n_esti': 218, 'msl': 11, 'md': 14, 'mf': 0.14140369462602576, 'mln': 40, 'bs': False, 'mss': 13, 'cw': 'balanced_subsample'}. Best is trial 32 with value: -0.8403330371332098.\u001b[0m\n",
            "\u001b[32m[I 2021-03-09 23:22:23,404]\u001b[0m Trial 36 finished with value: -0.8394503131015792 and parameters: {'reg': 'pipe1', 'n_esti': 152, 'msl': 9, 'md': 10, 'mf': 0.10331931402493111, 'mln': 22, 'bs': False, 'mss': 16, 'cw': None}. Best is trial 32 with value: -0.8403330371332098.\u001b[0m\n",
            "\u001b[32m[I 2021-03-09 23:22:23,778]\u001b[0m Trial 37 finished with value: -0.7919115267213278 and parameters: {'reg': 'pipe3', 'msl': 9, 'md': 12, 'mln': 23, 'lr': 0.5035112825506733, 'l2': 1.4292033291577506e-05}. Best is trial 32 with value: -0.8403330371332098.\u001b[0m\n",
            "\u001b[32m[I 2021-03-09 23:22:24,066]\u001b[0m Trial 38 finished with value: -0.8221636651309974 and parameters: {'reg': 'pipe1', 'n_esti': 170, 'msl': 8, 'md': 9, 'mf': 0.1418314962340314, 'mln': 10, 'bs': False, 'mss': 15, 'cw': 'balanced'}. Best is trial 32 with value: -0.8403330371332098.\u001b[0m\n",
            "\u001b[32m[I 2021-03-09 23:22:24,699]\u001b[0m Trial 39 finished with value: -0.7940103648064166 and parameters: {'reg': 'pipe4', 'n_esti': 274, 'msl': 4, 'md': 12, 'mln': 25, 'mss': 11, 'lr': 0.6715988100981981}. Best is trial 32 with value: -0.8403330371332098.\u001b[0m\n",
            "\u001b[32m[I 2021-03-09 23:22:25,224]\u001b[0m Trial 40 finished with value: -0.8349931314239114 and parameters: {'reg': 'pipe1', 'n_esti': 409, 'msl': 9, 'md': 15, 'mf': 0.12762389695808776, 'mln': 32, 'bs': False, 'mss': 16, 'cw': None}. Best is trial 32 with value: -0.8403330371332098.\u001b[0m\n",
            "\u001b[32m[I 2021-03-09 23:22:25,406]\u001b[0m Trial 41 finished with value: -0.8346353276286976 and parameters: {'reg': 'pipe1', 'n_esti': 107, 'msl': 13, 'md': 10, 'mf': 0.10353697026742871, 'mln': 17, 'bs': False, 'mss': 17, 'cw': None}. Best is trial 32 with value: -0.8403330371332098.\u001b[0m\n",
            "\u001b[32m[I 2021-03-09 23:22:25,634]\u001b[0m Trial 42 finished with value: -0.8308962893975487 and parameters: {'reg': 'pipe1', 'n_esti': 149, 'msl': 11, 'md': 8, 'mf': 0.10357511570435012, 'mln': 41, 'bs': False, 'mss': 18, 'cw': None}. Best is trial 32 with value: -0.8403330371332098.\u001b[0m\n",
            "\u001b[32m[I 2021-03-09 23:22:25,983]\u001b[0m Trial 43 finished with value: -0.8358201402708353 and parameters: {'reg': 'pipe1', 'n_esti': 234, 'msl': 12, 'md': 10, 'mf': 0.16740353020482246, 'mln': 104, 'bs': False, 'mss': 2, 'cw': None}. Best is trial 32 with value: -0.8403330371332098.\u001b[0m\n",
            "\u001b[32m[I 2021-03-09 23:22:26,377]\u001b[0m Trial 44 finished with value: -0.8351443497450053 and parameters: {'reg': 'pipe1', 'n_esti': 306, 'msl': 10, 'md': 11, 'mf': 0.1710629569112774, 'mln': 131, 'bs': False, 'mss': 6, 'cw': None}. Best is trial 32 with value: -0.8403330371332098.\u001b[0m\n",
            "\u001b[32m[I 2021-03-09 23:22:26,697]\u001b[0m Trial 45 finished with value: -0.8221937953060156 and parameters: {'reg': 'pipe1', 'n_esti': 229, 'msl': 1, 'md': 8, 'mf': 0.1359020073168744, 'mln': 109, 'bs': False, 'mss': 4, 'cw': None}. Best is trial 32 with value: -0.8403330371332098.\u001b[0m\n",
            "\u001b[32m[I 2021-03-09 23:22:27,010]\u001b[0m Trial 46 finished with value: -0.8370721319622542 and parameters: {'reg': 'pipe1', 'n_esti': 233, 'msl': 17, 'md': 13, 'mf': 0.1612835280667104, 'mln': 94, 'bs': False, 'mss': 6, 'cw': None}. Best is trial 32 with value: -0.8403330371332098.\u001b[0m\n",
            "\u001b[32m[I 2021-03-09 23:22:27,429]\u001b[0m Trial 47 finished with value: -0.807016014716474 and parameters: {'reg': 'pipe3', 'msl': 17, 'md': 14, 'mln': 83, 'lr': 0.42684115221184693, 'l2': 0.0013117801973094693}. Best is trial 32 with value: -0.8403330371332098.\u001b[0m\n",
            "\u001b[32m[I 2021-03-09 23:22:27,813]\u001b[0m Trial 48 finished with value: -0.8354988697684986 and parameters: {'reg': 'pipe1', 'n_esti': 283, 'msl': 18, 'md': 13, 'mf': 0.13876390951781176, 'mln': 159, 'bs': False, 'mss': 6, 'cw': None}. Best is trial 32 with value: -0.8403330371332098.\u001b[0m\n",
            "\u001b[32m[I 2021-03-09 23:22:28,432]\u001b[0m Trial 49 finished with value: -0.8169201405226243 and parameters: {'reg': 'pipe2', 'n_esti': 362, 'lr': 0.6875006741343282}. Best is trial 32 with value: -0.8403330371332098.\u001b[0m\n",
            "\u001b[32m[I 2021-03-09 23:22:28,736]\u001b[0m Trial 50 finished with value: -0.8245120650154207 and parameters: {'reg': 'pipe1', 'n_esti': 208, 'msl': 16, 'md': 16, 'mf': 0.38496634582294736, 'mln': 93, 'bs': False, 'mss': 7, 'cw': 'balanced'}. Best is trial 32 with value: -0.8403330371332098.\u001b[0m\n",
            "\u001b[32m[I 2021-03-09 23:22:29,091]\u001b[0m Trial 51 finished with value: -0.8331601111353741 and parameters: {'reg': 'pipe1', 'n_esti': 253, 'msl': 14, 'md': 9, 'mf': 0.16652673241290783, 'mln': 99, 'bs': False, 'mss': 3, 'cw': None}. Best is trial 32 with value: -0.8403330371332098.\u001b[0m\n",
            "\u001b[32m[I 2021-03-09 23:22:29,410]\u001b[0m Trial 52 finished with value: -0.8292877892539654 and parameters: {'reg': 'pipe1', 'n_esti': 231, 'msl': 2, 'md': 12, 'mf': 0.24302691420109188, 'mln': 81, 'bs': False, 'mss': 5, 'cw': None}. Best is trial 32 with value: -0.8403330371332098.\u001b[0m\n",
            "\u001b[32m[I 2021-03-09 23:22:29,837]\u001b[0m Trial 53 finished with value: -0.8331749668904276 and parameters: {'reg': 'pipe1', 'n_esti': 316, 'msl': 20, 'md': 7, 'mf': 0.15696305149788015, 'mln': 100, 'bs': False, 'mss': 13, 'cw': None}. Best is trial 32 with value: -0.8403330371332098.\u001b[0m\n",
            "\u001b[32m[I 2021-03-09 23:22:30,081]\u001b[0m Trial 54 finished with value: -0.8356608409528279 and parameters: {'reg': 'pipe1', 'n_esti': 163, 'msl': 7, 'md': 10, 'mf': 0.12848775904073176, 'mln': 127, 'bs': False, 'mss': 3, 'cw': None}. Best is trial 32 with value: -0.8403330371332098.\u001b[0m\n",
            "\u001b[32m[I 2021-03-09 23:22:30,777]\u001b[0m Trial 55 finished with value: -0.83045759831857 and parameters: {'reg': 'pipe1', 'n_esti': 408, 'msl': 13, 'md': 11, 'mf': 0.18853325430584356, 'mln': 115, 'bs': True, 'mss': 14, 'cw': None}. Best is trial 32 with value: -0.8403330371332098.\u001b[0m\n",
            "\u001b[32m[I 2021-03-09 23:22:31,097]\u001b[0m Trial 56 finished with value: -0.8378471748017968 and parameters: {'reg': 'pipe1', 'n_esti': 203, 'msl': 9, 'md': 8, 'mf': 0.1006389837750282, 'mln': 65, 'bs': False, 'mss': 2, 'cw': None}. Best is trial 32 with value: -0.8403330371332098.\u001b[0m\n",
            "\u001b[32m[I 2021-03-09 23:22:31,385]\u001b[0m Trial 57 finished with value: -0.834466345092698 and parameters: {'reg': 'pipe1', 'n_esti': 148, 'msl': 7, 'md': 7, 'mf': 0.11955585546468475, 'mln': 64, 'bs': True, 'mss': 12, 'cw': None}. Best is trial 32 with value: -0.8403330371332098.\u001b[0m\n",
            "\u001b[32m[I 2021-03-09 23:22:31,840]\u001b[0m Trial 58 finished with value: -0.8205630345561762 and parameters: {'reg': 'pipe1', 'n_esti': 187, 'msl': 9, 'md': 8, 'mf': 0.12194702528602006, 'mln': 79, 'bs': True, 'mss': 10, 'cw': 'balanced_subsample'}. Best is trial 32 with value: -0.8403330371332098.\u001b[0m\n",
            "\u001b[32m[I 2021-03-09 23:22:32,551]\u001b[0m Trial 59 finished with value: -0.8360462148362797 and parameters: {'reg': 'pipe1', 'n_esti': 583, 'msl': 5, 'md': 13, 'mf': 0.10709567512369021, 'mln': 51, 'bs': False, 'mss': 2, 'cw': None}. Best is trial 32 with value: -0.8403330371332098.\u001b[0m\n",
            "\u001b[32m[I 2021-03-09 23:22:33,166]\u001b[0m Trial 60 finished with value: -0.8227357939481286 and parameters: {'reg': 'pipe2', 'n_esti': 349, 'lr': 0.24955149721058245}. Best is trial 32 with value: -0.8403330371332098.\u001b[0m\n",
            "\u001b[32m[I 2021-03-09 23:22:33,901]\u001b[0m Trial 61 finished with value: -0.8320225084765067 and parameters: {'reg': 'pipe1', 'n_esti': 592, 'msl': 5, 'md': 13, 'mf': 0.11912150331755633, 'mln': 51, 'bs': False, 'mss': 2, 'cw': None}. Best is trial 32 with value: -0.8403330371332098.\u001b[0m\n",
            "\u001b[32m[I 2021-03-09 23:22:34,625]\u001b[0m Trial 62 finished with value: -0.8361051335023836 and parameters: {'reg': 'pipe1', 'n_esti': 598, 'msl': 5, 'md': 14, 'mf': 0.10060745602852635, 'mln': 51, 'bs': False, 'mss': 5, 'cw': None}. Best is trial 32 with value: -0.8403330371332098.\u001b[0m\n",
            "\u001b[32m[I 2021-03-09 23:22:35,409]\u001b[0m Trial 63 finished with value: -0.8352532925261515 and parameters: {'reg': 'pipe1', 'n_esti': 643, 'msl': 4, 'md': 14, 'mf': 0.10140507154805098, 'mln': 62, 'bs': False, 'mss': 5, 'cw': None}. Best is trial 32 with value: -0.8403330371332098.\u001b[0m\n",
            "\u001b[32m[I 2021-03-09 23:22:36,439]\u001b[0m Trial 64 finished with value: -0.8305406886224425 and parameters: {'reg': 'pipe1', 'n_esti': 643, 'msl': 3, 'md': 18, 'mf': 0.49504584457253564, 'mln': 33, 'bs': True, 'mss': 7, 'cw': None}. Best is trial 32 with value: -0.8403330371332098.\u001b[0m\n",
            "\u001b[32m[I 2021-03-09 23:22:37,056]\u001b[0m Trial 65 finished with value: -0.8274163764151219 and parameters: {'reg': 'pipe1', 'n_esti': 503, 'msl': 7, 'md': 12, 'mf': 0.3503939401315432, 'mln': 17, 'bs': False, 'mss': 4, 'cw': None}. Best is trial 32 with value: -0.8403330371332098.\u001b[0m\n",
            "\u001b[32m[I 2021-03-09 23:22:39,158]\u001b[0m Trial 66 finished with value: -0.8118858952039266 and parameters: {'reg': 'pipe4', 'n_esti': 805, 'msl': 10, 'md': 9, 'mln': 66, 'mss': 7, 'lr': 0.1011500612281519}. Best is trial 32 with value: -0.8403330371332098.\u001b[0m\n",
            "\u001b[32m[I 2021-03-09 23:22:40,289]\u001b[0m Trial 67 finished with value: -0.8381202277443018 and parameters: {'reg': 'pipe1', 'n_esti': 741, 'msl': 6, 'md': 6, 'mf': 0.10107434887577721, 'mln': 88, 'bs': True, 'mss': 12, 'cw': None}. Best is trial 32 with value: -0.8403330371332098.\u001b[0m\n",
            "\u001b[32m[I 2021-03-09 23:22:41,731]\u001b[0m Trial 68 finished with value: -0.835040601759825 and parameters: {'reg': 'pipe1', 'n_esti': 973, 'msl': 6, 'md': 7, 'mf': 0.152618649301499, 'mln': 78, 'bs': True, 'mss': 12, 'cw': None}. Best is trial 32 with value: -0.8403330371332098.\u001b[0m\n",
            "\u001b[32m[I 2021-03-09 23:22:42,866]\u001b[0m Trial 69 finished with value: -0.8237438679511591 and parameters: {'reg': 'pipe1', 'n_esti': 741, 'msl': 8, 'md': 11, 'mf': 0.12816017605501845, 'mln': 89, 'bs': True, 'mss': 12, 'cw': 'balanced'}. Best is trial 32 with value: -0.8403330371332098.\u001b[0m\n",
            "\u001b[32m[I 2021-03-09 23:22:43,079]\u001b[0m Trial 70 finished with value: -0.8056087661634992 and parameters: {'reg': 'pipe3', 'msl': 9, 'md': 4, 'mln': 89, 'lr': 0.996090231357952, 'l2': 7.32154134702067}. Best is trial 32 with value: -0.8403330371332098.\u001b[0m\n",
            "\u001b[32m[I 2021-03-09 23:22:44,392]\u001b[0m Trial 71 finished with value: -0.8361605380202233 and parameters: {'reg': 'pipe1', 'n_esti': 865, 'msl': 5, 'md': 9, 'mf': 0.10040858816823561, 'mln': 57, 'bs': True, 'mss': 10, 'cw': None}. Best is trial 32 with value: -0.8403330371332098.\u001b[0m\n",
            "\u001b[32m[I 2021-03-09 23:22:45,762]\u001b[0m Trial 72 finished with value: -0.8358234378983713 and parameters: {'reg': 'pipe1', 'n_esti': 894, 'msl': 6, 'md': 9, 'mf': 0.11982207880658159, 'mln': 73, 'bs': True, 'mss': 13, 'cw': None}. Best is trial 32 with value: -0.8403330371332098.\u001b[0m\n",
            "\u001b[32m[I 2021-03-09 23:22:47,083]\u001b[0m Trial 73 finished with value: -0.836491863551327 and parameters: {'reg': 'pipe1', 'n_esti': 862, 'msl': 3, 'md': 6, 'mf': 0.10023487816900292, 'mln': 58, 'bs': True, 'mss': 11, 'cw': None}. Best is trial 32 with value: -0.8403330371332098.\u001b[0m\n",
            "\u001b[32m[I 2021-03-09 23:22:48,436]\u001b[0m Trial 74 finished with value: -0.8405957269718254 and parameters: {'reg': 'pipe1', 'n_esti': 916, 'msl': 2, 'md': 6, 'mf': 0.10032307597597663, 'mln': 27, 'bs': True, 'mss': 14, 'cw': None}. Best is trial 74 with value: -0.8405957269718254.\u001b[0m\n",
            "\u001b[32m[I 2021-03-09 23:22:48,938]\u001b[0m Trial 75 finished with value: -0.8284482635159328 and parameters: {'reg': 'pipe1', 'n_esti': 296, 'msl': 2, 'md': 6, 'mf': 0.46475747088778196, 'mln': 27, 'bs': True, 'mss': 16, 'cw': None}. Best is trial 74 with value: -0.8405957269718254.\u001b[0m\n",
            "\u001b[32m[I 2021-03-09 23:22:50,027]\u001b[0m Trial 76 finished with value: -0.8335039455497633 and parameters: {'reg': 'pipe1', 'n_esti': 715, 'msl': 7, 'md': 6, 'mf': 0.15034958528260123, 'mln': 20, 'bs': True, 'mss': 14, 'cw': None}. Best is trial 74 with value: -0.8405957269718254.\u001b[0m\n",
            "\u001b[32m[I 2021-03-09 23:22:51,855]\u001b[0m Trial 77 finished with value: -0.824072890678291 and parameters: {'reg': 'pipe1', 'n_esti': 918, 'msl': 8, 'md': 4, 'mf': 0.11761614659122985, 'mln': 36, 'bs': True, 'mss': 13, 'cw': 'balanced_subsample'}. Best is trial 74 with value: -0.8405957269718254.\u001b[0m\n",
            "\u001b[32m[I 2021-03-09 23:22:52,304]\u001b[0m Trial 78 finished with value: -0.8301335600734813 and parameters: {'reg': 'pipe1', 'n_esti': 257, 'msl': 4, 'md': 8, 'mf': 0.28806921783832196, 'mln': 12, 'bs': True, 'mss': 15, 'cw': None}. Best is trial 74 with value: -0.8405957269718254.\u001b[0m\n",
            "\u001b[32m[I 2021-03-09 23:22:54,684]\u001b[0m Trial 79 finished with value: -0.6925336215696871 and parameters: {'reg': 'pipe4', 'n_esti': 768, 'msl': 1, 'md': 10, 'mln': 97, 'mss': 15, 'lr': 0.6114424740221218}. Best is trial 74 with value: -0.8405957269718254.\u001b[0m\n",
            "\u001b[32m[I 2021-03-09 23:22:54,961]\u001b[0m Trial 80 finished with value: -0.8221507860570991 and parameters: {'reg': 'pipe1', 'n_esti': 140, 'msl': 6, 'md': 3, 'mf': 0.13287092896512231, 'mln': 26, 'bs': True, 'mss': 9, 'cw': None}. Best is trial 74 with value: -0.8405957269718254.\u001b[0m\n",
            "\u001b[32m[I 2021-03-09 23:22:56,481]\u001b[0m Trial 81 finished with value: -0.8350923761290169 and parameters: {'reg': 'pipe1', 'n_esti': 990, 'msl': 3, 'md': 6, 'mf': 0.10074316368987367, 'mln': 67, 'bs': True, 'mss': 11, 'cw': None}. Best is trial 74 with value: -0.8405957269718254.\u001b[0m\n",
            "\u001b[32m[I 2021-03-09 23:22:57,851]\u001b[0m Trial 82 finished with value: -0.837588372460462 and parameters: {'reg': 'pipe1', 'n_esti': 921, 'msl': 2, 'md': 5, 'mf': 0.11291201874855768, 'mln': 48, 'bs': True, 'mss': 12, 'cw': None}. Best is trial 74 with value: -0.8405957269718254.\u001b[0m\n",
            "\u001b[32m[I 2021-03-09 23:22:59,246]\u001b[0m Trial 83 finished with value: -0.8396374661627432 and parameters: {'reg': 'pipe1', 'n_esti': 946, 'msl': 2, 'md': 3, 'mf': 0.11513325515819071, 'mln': 44, 'bs': True, 'mss': 12, 'cw': None}. Best is trial 74 with value: -0.8405957269718254.\u001b[0m\n",
            "\u001b[32m[I 2021-03-09 23:23:00,641]\u001b[0m Trial 84 finished with value: -0.8329186695374385 and parameters: {'reg': 'pipe1', 'n_esti': 943, 'msl': 2, 'md': 3, 'mf': 0.11046987347122827, 'mln': 40, 'bs': True, 'mss': 12, 'cw': None}. Best is trial 74 with value: -0.8405957269718254.\u001b[0m\n",
            "\u001b[32m[I 2021-03-09 23:23:02,024]\u001b[0m Trial 85 finished with value: -0.8362329611240465 and parameters: {'reg': 'pipe1', 'n_esti': 919, 'msl': 1, 'md': 5, 'mf': 0.13938349765668334, 'mln': 48, 'bs': True, 'mss': 14, 'cw': None}. Best is trial 74 with value: -0.8405957269718254.\u001b[0m\n",
            "\u001b[32m[I 2021-03-09 23:23:03,664]\u001b[0m Trial 86 finished with value: -0.7864128412541286 and parameters: {'reg': 'pipe2', 'n_esti': 966, 'lr': 0.7751228159637125}. Best is trial 74 with value: -0.8405957269718254.\u001b[0m\n",
            "\u001b[32m[I 2021-03-09 23:23:04,932]\u001b[0m Trial 87 finished with value: -0.8297778582466805 and parameters: {'reg': 'pipe1', 'n_esti': 864, 'msl': 10, 'md': 2, 'mf': 0.11516994979893334, 'mln': 30, 'bs': True, 'mss': 13, 'cw': None}. Best is trial 74 with value: -0.8405957269718254.\u001b[0m\n",
            "\u001b[32m[I 2021-03-09 23:23:06,169]\u001b[0m Trial 88 finished with value: -0.806106097712387 and parameters: {'reg': 'pipe1', 'n_esti': 822, 'msl': 2, 'md': 1, 'mf': 0.13065400897729884, 'mln': 36, 'bs': True, 'mss': 14, 'cw': None}. Best is trial 74 with value: -0.8405957269718254.\u001b[0m\n",
            "\u001b[32m[I 2021-03-09 23:23:06,273]\u001b[0m Trial 89 finished with value: -0.7943557057946281 and parameters: {'reg': 'pipe3', 'msl': 4, 'md': 2, 'mln': 46, 'lr': 0.9002255504531969, 'l2': 8.211829830553036e-05}. Best is trial 74 with value: -0.8405957269718254.\u001b[0m\n",
            "\u001b[32m[I 2021-03-09 23:23:07,765]\u001b[0m Trial 90 finished with value: -0.8278179355826415 and parameters: {'reg': 'pipe1', 'n_esti': 1000, 'msl': 11, 'md': 4, 'mf': 0.18220305346250815, 'mln': 21, 'bs': True, 'mss': 16, 'cw': None}. Best is trial 74 with value: -0.8405957269718254.\u001b[0m\n",
            "\u001b[32m[I 2021-03-09 23:23:08,123]\u001b[0m Trial 91 finished with value: -0.8420927234518268 and parameters: {'reg': 'pipe1', 'n_esti': 203, 'msl': 2, 'md': 5, 'mf': 0.11319753538834386, 'mln': 75, 'bs': True, 'mss': 12, 'cw': None}. Best is trial 91 with value: -0.8420927234518268.\u001b[0m\n",
            "\u001b[32m[I 2021-03-09 23:23:08,473]\u001b[0m Trial 92 finished with value: -0.8312568247879897 and parameters: {'reg': 'pipe1', 'n_esti': 200, 'msl': 2, 'md': 4, 'mf': 0.11367312281029002, 'mln': 14, 'bs': True, 'mss': 10, 'cw': None}. Best is trial 91 with value: -0.8420927234518268.\u001b[0m\n",
            "\u001b[32m[I 2021-03-09 23:23:09,839]\u001b[0m Trial 93 finished with value: -0.8366124344215585 and parameters: {'reg': 'pipe1', 'n_esti': 924, 'msl': 3, 'md': 5, 'mf': 0.14297817663023588, 'mln': 55, 'bs': True, 'mss': 12, 'cw': None}. Best is trial 91 with value: -0.8420927234518268.\u001b[0m\n",
            "\u001b[32m[I 2021-03-09 23:23:10,199]\u001b[0m Trial 94 finished with value: -0.8345017810475989 and parameters: {'reg': 'pipe1', 'n_esti': 187, 'msl': 1, 'md': 8, 'mf': 0.10080152918478527, 'mln': 76, 'bs': True, 'mss': 13, 'cw': None}. Best is trial 91 with value: -0.8420927234518268.\u001b[0m\n",
            "\u001b[32m[I 2021-03-09 23:23:10,783]\u001b[0m Trial 95 finished with value: -0.8323179616884697 and parameters: {'reg': 'pipe1', 'n_esti': 335, 'msl': 9, 'md': 5, 'mf': 0.1264021126684522, 'mln': 62, 'bs': True, 'mss': 11, 'cw': None}. Best is trial 91 with value: -0.8420927234518268.\u001b[0m\n",
            "\u001b[32m[I 2021-03-09 23:23:11,248]\u001b[0m Trial 96 finished with value: -0.8398950783727865 and parameters: {'reg': 'pipe1', 'n_esti': 269, 'msl': 3, 'md': 7, 'mf': 0.11514777791135254, 'mln': 70, 'bs': True, 'mss': 12, 'cw': None}. Best is trial 91 with value: -0.8420927234518268.\u001b[0m\n",
            "\u001b[32m[I 2021-03-09 23:23:11,971]\u001b[0m Trial 97 finished with value: -0.8325375553011851 and parameters: {'reg': 'pipe1', 'n_esti': 459, 'msl': 3, 'md': 7, 'mf': 0.11323815829460819, 'mln': 71, 'bs': True, 'mss': 12, 'cw': 'balanced'}. Best is trial 91 with value: -0.8420927234518268.\u001b[0m\n",
            "\u001b[32m[I 2021-03-09 23:23:12,590]\u001b[0m Trial 98 finished with value: -0.8341832922564564 and parameters: {'reg': 'pipe1', 'n_esti': 382, 'msl': 2, 'md': 6, 'mf': 0.1499419892984845, 'mln': 84, 'bs': True, 'mss': 11, 'cw': None}. Best is trial 91 with value: -0.8420927234518268.\u001b[0m\n",
            "\u001b[32m[I 2021-03-09 23:23:13,911]\u001b[0m Trial 99 finished with value: -0.8355888139434141 and parameters: {'reg': 'pipe1', 'n_esti': 885, 'msl': 3, 'md': 7, 'mf': 0.13304411595903776, 'mln': 70, 'bs': True, 'mss': 14, 'cw': None}. Best is trial 91 with value: -0.8420927234518268.\u001b[0m\n",
            "\u001b[32m[I 2021-03-09 23:23:14,127]\u001b[0m Trial 100 finished with value: -0.8391144318031735 and parameters: {'reg': 'pipe1', 'n_esti': 101, 'msl': 1, 'md': 5, 'mf': 0.11145174619164798, 'mln': 86, 'bs': True, 'mss': 12, 'cw': None}. Best is trial 91 with value: -0.8420927234518268.\u001b[0m\n",
            "\u001b[32m[I 2021-03-09 23:23:14,383]\u001b[0m Trial 101 finished with value: -0.8314842522749396 and parameters: {'reg': 'pipe1', 'n_esti': 126, 'msl': 1, 'md': 5, 'mf': 0.11146997904539961, 'mln': 85, 'bs': True, 'mss': 12, 'cw': None}. Best is trial 91 with value: -0.8420927234518268.\u001b[0m\n",
            "\u001b[32m[I 2021-03-09 23:23:14,765]\u001b[0m Trial 102 finished with value: -0.839718418554051 and parameters: {'reg': 'pipe1', 'n_esti': 213, 'msl': 1, 'md': 5, 'mf': 0.10054792826928399, 'mln': 80, 'bs': True, 'mss': 10, 'cw': None}. Best is trial 91 with value: -0.8420927234518268.\u001b[0m\n",
            "\u001b[32m[I 2021-03-09 23:23:15,079]\u001b[0m Trial 103 finished with value: -0.8278832334374439 and parameters: {'reg': 'pipe1', 'n_esti': 171, 'msl': 1, 'md': 3, 'mf': 0.12357233252769032, 'mln': 76, 'bs': True, 'mss': 10, 'cw': None}. Best is trial 91 with value: -0.8420927234518268.\u001b[0m\n",
            "\u001b[32m[I 2021-03-09 23:23:15,474]\u001b[0m Trial 104 finished with value: -0.8376117998117254 and parameters: {'reg': 'pipe1', 'n_esti': 220, 'msl': 3, 'md': 6, 'mf': 0.10214961646847907, 'mln': 88, 'bs': True, 'mss': 9, 'cw': None}. Best is trial 91 with value: -0.8420927234518268.\u001b[0m\n",
            "\u001b[32m[I 2021-03-09 23:23:15,930]\u001b[0m Trial 105 finished with value: -0.8340362054124363 and parameters: {'reg': 'pipe1', 'n_esti': 247, 'msl': 4, 'md': 4, 'mf': 0.13587133722964567, 'mln': 80, 'bs': True, 'mss': 13, 'cw': None}. Best is trial 91 with value: -0.8420927234518268.\u001b[0m\n",
            "\u001b[32m[I 2021-03-09 23:23:16,177]\u001b[0m Trial 106 finished with value: -0.82693314253896 and parameters: {'reg': 'pipe1', 'n_esti': 104, 'msl': 1, 'md': 7, 'mf': 0.22421406757143172, 'mln': 95, 'bs': True, 'mss': 18, 'cw': None}. Best is trial 91 with value: -0.8420927234518268.\u001b[0m\n",
            "\u001b[32m[I 2021-03-09 23:23:16,478]\u001b[0m Trial 107 finished with value: -0.8313754920183556 and parameters: {'reg': 'pipe1', 'n_esti': 201, 'msl': 8, 'md': 8, 'mf': 0.1228549641796289, 'mln': 103, 'bs': False, 'mss': 15, 'cw': 'balanced_subsample'}. Best is trial 91 with value: -0.8420927234518268.\u001b[0m\n",
            "\u001b[32m[I 2021-03-09 23:23:16,992]\u001b[0m Trial 108 finished with value: -0.8378411840482155 and parameters: {'reg': 'pipe1', 'n_esti': 288, 'msl': 2, 'md': 7, 'mf': 0.10042869200168918, 'mln': 73, 'bs': True, 'mss': 11, 'cw': None}. Best is trial 91 with value: -0.8420927234518268.\u001b[0m\n",
            "\u001b[32m[I 2021-03-09 23:23:17,362]\u001b[0m Trial 109 finished with value: -0.812809217540428 and parameters: {'reg': 'pipe4', 'n_esti': 157, 'msl': 4, 'md': 6, 'mln': 67, 'mss': 13, 'lr': 0.10392725079849069}. Best is trial 91 with value: -0.8420927234518268.\u001b[0m\n",
            "\u001b[32m[I 2021-03-09 23:23:17,835]\u001b[0m Trial 110 finished with value: -0.8247815886926123 and parameters: {'reg': 'pipe2', 'n_esti': 270, 'lr': 0.431632448613814}. Best is trial 91 with value: -0.8420927234518268.\u001b[0m\n",
            "\u001b[32m[I 2021-03-09 23:23:18,314]\u001b[0m Trial 111 finished with value: -0.8333000222074173 and parameters: {'reg': 'pipe1', 'n_esti': 292, 'msl': 2, 'md': 5, 'mf': 0.11021676418014412, 'mln': 76, 'bs': True, 'mss': 11, 'cw': None}. Best is trial 91 with value: -0.8420927234518268.\u001b[0m\n",
            "\u001b[32m[I 2021-03-09 23:23:18,586]\u001b[0m Trial 112 finished with value: -0.8367587844871605 and parameters: {'reg': 'pipe1', 'n_esti': 135, 'msl': 2, 'md': 8, 'mf': 0.10034970841115674, 'mln': 92, 'bs': True, 'mss': 9, 'cw': None}. Best is trial 91 with value: -0.8420927234518268.\u001b[0m\n",
            "\u001b[32m[I 2021-03-09 23:23:19,001]\u001b[0m Trial 113 finished with value: -0.8312834573730224 and parameters: {'reg': 'pipe1', 'n_esti': 247, 'msl': 9, 'md': 7, 'mf': 0.1257254149104994, 'mln': 81, 'bs': True, 'mss': 8, 'cw': None}. Best is trial 91 with value: -0.8420927234518268.\u001b[0m\n",
            "\u001b[32m[I 2021-03-09 23:23:19,563]\u001b[0m Trial 114 finished with value: -0.8293666677054523 and parameters: {'reg': 'pipe1', 'n_esti': 320, 'msl': 1, 'md': 6, 'mf': 0.10112335431787459, 'mln': 73, 'bs': True, 'mss': 11, 'cw': None}. Best is trial 91 with value: -0.8420927234518268.\u001b[0m\n",
            "\u001b[32m[I 2021-03-09 23:23:19,865]\u001b[0m Trial 115 finished with value: -0.8392053048350727 and parameters: {'reg': 'pipe1', 'n_esti': 190, 'msl': 2, 'md': 7, 'mf': 0.1447238556131611, 'mln': 87, 'bs': False, 'mss': 10, 'cw': None}. Best is trial 91 with value: -0.8420927234518268.\u001b[0m\n",
            "\u001b[32m[I 2021-03-09 23:23:20,165]\u001b[0m Trial 116 finished with value: -0.8386630664351186 and parameters: {'reg': 'pipe1', 'n_esti': 183, 'msl': 3, 'md': 11, 'mf': 0.14395387753493805, 'mln': 112, 'bs': False, 'mss': 12, 'cw': None}. Best is trial 91 with value: -0.8420927234518268.\u001b[0m\n",
            "\u001b[32m[I 2021-03-09 23:23:20,447]\u001b[0m Trial 117 finished with value: -0.8319925973772253 and parameters: {'reg': 'pipe1', 'n_esti': 188, 'msl': 3, 'md': 11, 'mf': 0.1606943495878511, 'mln': 115, 'bs': False, 'mss': 10, 'cw': None}. Best is trial 91 with value: -0.8420927234518268.\u001b[0m\n",
            "\u001b[32m[I 2021-03-09 23:23:20,809]\u001b[0m Trial 118 finished with value: -0.8353206334733245 and parameters: {'reg': 'pipe1', 'n_esti': 219, 'msl': 4, 'md': 10, 'mf': 0.1495002579348679, 'mln': 111, 'bs': False, 'mss': 12, 'cw': None}. Best is trial 91 with value: -0.8420927234518268.\u001b[0m\n",
            "\u001b[32m[I 2021-03-09 23:23:21,087]\u001b[0m Trial 119 finished with value: -0.8356677657569378 and parameters: {'reg': 'pipe1', 'n_esti': 158, 'msl': 3, 'md': 12, 'mf': 0.14077630152063325, 'mln': 123, 'bs': False, 'mss': 10, 'cw': None}. Best is trial 91 with value: -0.8420927234518268.\u001b[0m\n",
            "\u001b[32m[I 2021-03-09 23:23:21,755]\u001b[0m Trial 120 finished with value: -0.8305791672527996 and parameters: {'reg': 'pipe1', 'n_esti': 535, 'msl': 2, 'md': 3, 'mf': 0.17147235776855604, 'mln': 100, 'bs': False, 'mss': 12, 'cw': None}. Best is trial 91 with value: -0.8420927234518268.\u001b[0m\n",
            "\u001b[32m[I 2021-03-09 23:23:22,050]\u001b[0m Trial 121 finished with value: -0.835841883591401 and parameters: {'reg': 'pipe1', 'n_esti': 206, 'msl': 1, 'md': 11, 'mf': 0.12239236404375145, 'mln': 85, 'bs': False, 'mss': 12, 'cw': None}. Best is trial 91 with value: -0.8420927234518268.\u001b[0m\n",
            "\u001b[32m[I 2021-03-09 23:23:22,306]\u001b[0m Trial 122 finished with value: -0.8336733857634243 and parameters: {'reg': 'pipe1', 'n_esti': 171, 'msl': 5, 'md': 10, 'mf': 0.10970003171786032, 'mln': 90, 'bs': False, 'mss': 13, 'cw': None}. Best is trial 91 with value: -0.8420927234518268.\u001b[0m\n",
            "\u001b[32m[I 2021-03-09 23:23:23,106]\u001b[0m Trial 123 finished with value: -0.8375149761558823 and parameters: {'reg': 'pipe1', 'n_esti': 674, 'msl': 3, 'md': 9, 'mf': 0.1305030711855503, 'mln': 65, 'bs': False, 'mss': 14, 'cw': None}. Best is trial 91 with value: -0.8420927234518268.\u001b[0m\n",
            "\u001b[32m[I 2021-03-09 23:23:23,433]\u001b[0m Trial 124 finished with value: -0.838930582104833 and parameters: {'reg': 'pipe1', 'n_esti': 238, 'msl': 2, 'md': 6, 'mf': 0.11785447456515755, 'mln': 60, 'bs': False, 'mss': 9, 'cw': None}. Best is trial 91 with value: -0.8420927234518268.\u001b[0m\n",
            "\u001b[32m[I 2021-03-09 23:23:23,961]\u001b[0m Trial 125 finished with value: -0.8011223300836173 and parameters: {'reg': 'pipe3', 'msl': 2, 'md': 6, 'mln': 61, 'lr': 0.23284292571651882, 'l2': 0.045563854578583834}. Best is trial 91 with value: -0.8420927234518268.\u001b[0m\n",
            "\u001b[32m[I 2021-03-09 23:23:24,335]\u001b[0m Trial 126 finished with value: -0.8323689925851383 and parameters: {'reg': 'pipe1', 'n_esti': 265, 'msl': 3, 'md': 5, 'mf': 0.1171724868861455, 'mln': 86, 'bs': False, 'mss': 9, 'cw': None}. Best is trial 91 with value: -0.8420927234518268.\u001b[0m\n",
            "\u001b[32m[I 2021-03-09 23:23:24,694]\u001b[0m Trial 127 finished with value: -0.8361516997415392 and parameters: {'reg': 'pipe1', 'n_esti': 235, 'msl': 2, 'md': 12, 'mf': 0.13816786928527391, 'mln': 24, 'bs': False, 'mss': 10, 'cw': None}. Best is trial 91 with value: -0.8420927234518268.\u001b[0m\n",
            "\u001b[32m[I 2021-03-09 23:23:24,955]\u001b[0m Trial 128 finished with value: -0.8235013056631031 and parameters: {'reg': 'pipe1', 'n_esti': 100, 'msl': 1, 'md': 4, 'mf': 0.1558750371538152, 'mln': 79, 'bs': False, 'mss': 11, 'cw': 'balanced'}. Best is trial 91 with value: -0.8420927234518268.\u001b[0m\n",
            "\u001b[32m[I 2021-03-09 23:23:25,161]\u001b[0m Trial 129 finished with value: -0.8279805719094082 and parameters: {'reg': 'pipe1', 'n_esti': 122, 'msl': 2, 'md': 5, 'mf': 0.2612876399121574, 'mln': 31, 'bs': False, 'mss': 8, 'cw': None}. Best is trial 91 with value: -0.8420927234518268.\u001b[0m\n",
            "\u001b[32m[I 2021-03-09 23:23:25,534]\u001b[0m Trial 130 finished with value: -0.8314694708032484 and parameters: {'reg': 'pipe1', 'n_esti': 184, 'msl': 4, 'md': 6, 'mf': 0.14632716373706203, 'mln': 70, 'bs': True, 'mss': 8, 'cw': None}. Best is trial 91 with value: -0.8420927234518268.\u001b[0m\n",
            "\u001b[32m[I 2021-03-09 23:23:25,887]\u001b[0m Trial 131 finished with value: -0.8343454597840925 and parameters: {'reg': 'pipe1', 'n_esti': 233, 'msl': 9, 'md': 7, 'mf': 0.10782892222075578, 'mln': 190, 'bs': False, 'mss': 12, 'cw': None}. Best is trial 91 with value: -0.8420927234518268.\u001b[0m\n",
            "\u001b[32m[I 2021-03-09 23:23:26,188]\u001b[0m Trial 132 finished with value: -0.8313759497290094 and parameters: {'reg': 'pipe1', 'n_esti': 212, 'msl': 7, 'md': 7, 'mf': 0.11916839055963746, 'mln': 55, 'bs': False, 'mss': 10, 'cw': None}. Best is trial 91 with value: -0.8420927234518268.\u001b[0m\n",
            "\u001b[32m[I 2021-03-09 23:23:26,410]\u001b[0m Trial 133 finished with value: -0.8391551579007839 and parameters: {'reg': 'pipe1', 'n_esti': 142, 'msl': 10, 'md': 6, 'mf': 0.10853826790143402, 'mln': 82, 'bs': False, 'mss': 11, 'cw': None}. Best is trial 91 with value: -0.8420927234518268.\u001b[0m\n",
            "\u001b[32m[I 2021-03-09 23:23:26,638]\u001b[0m Trial 134 finished with value: -0.8377885149114397 and parameters: {'reg': 'pipe1', 'n_esti': 150, 'msl': 10, 'md': 5, 'mf': 0.1297692742713971, 'mln': 81, 'bs': False, 'mss': 11, 'cw': None}. Best is trial 91 with value: -0.8420927234518268.\u001b[0m\n",
            "\u001b[32m[I 2021-03-09 23:23:26,853]\u001b[0m Trial 135 finished with value: -0.8229613462338318 and parameters: {'reg': 'pipe1', 'n_esti': 138, 'msl': 11, 'md': 2, 'mf': 0.10756593878970963, 'mln': 76, 'bs': False, 'mss': 12, 'cw': None}. Best is trial 91 with value: -0.8420927234518268.\u001b[0m\n",
            "\u001b[32m[I 2021-03-09 23:23:27,205]\u001b[0m Trial 136 finished with value: -0.8261653385522768 and parameters: {'reg': 'pipe1', 'n_esti': 191, 'msl': 1, 'md': 6, 'mf': 0.3225480972002237, 'mln': 93, 'bs': True, 'mss': 9, 'cw': None}. Best is trial 91 with value: -0.8420927234518268.\u001b[0m\n",
            "\u001b[32m[I 2021-03-09 23:23:27,544]\u001b[0m Trial 137 finished with value: -0.8367628583498116 and parameters: {'reg': 'pipe1', 'n_esti': 256, 'msl': 2, 'md': 5, 'mf': 0.11666825075488593, 'mln': 13, 'bs': False, 'mss': 20, 'cw': None}. Best is trial 91 with value: -0.8420927234518268.\u001b[0m\n",
            "\u001b[32m[I 2021-03-09 23:23:27,844]\u001b[0m Trial 138 finished with value: -0.8254608415299953 and parameters: {'reg': 'pipe1', 'n_esti': 113, 'msl': 3, 'md': 6, 'mf': 0.13524002883196354, 'mln': 106, 'bs': True, 'mss': 11, 'cw': 'balanced_subsample'}. Best is trial 91 with value: -0.8420927234518268.\u001b[0m\n",
            "\u001b[32m[I 2021-03-09 23:23:28,101]\u001b[0m Trial 139 finished with value: -0.8197155150056636 and parameters: {'reg': 'pipe1', 'n_esti': 173, 'msl': 10, 'md': 4, 'mf': 0.44703204540258273, 'mln': 83, 'bs': False, 'mss': 13, 'cw': None}. Best is trial 91 with value: -0.8420927234518268.\u001b[0m\n",
            "\u001b[32m[I 2021-03-09 23:23:28,485]\u001b[0m Trial 140 finished with value: -0.8374045028448267 and parameters: {'reg': 'pipe1', 'n_esti': 220, 'msl': 1, 'md': 10, 'mf': 0.12384515397311485, 'mln': 16, 'bs': True, 'mss': 13, 'cw': None}. Best is trial 91 with value: -0.8420927234518268.\u001b[0m\n",
            "\u001b[32m[I 2021-03-09 23:23:28,810]\u001b[0m Trial 141 finished with value: -0.8417710144960144 and parameters: {'reg': 'pipe1', 'n_esti': 201, 'msl': 8, 'md': 11, 'mf': 0.10590916065141984, 'mln': 60, 'bs': False, 'mss': 10, 'cw': None}. Best is trial 91 with value: -0.8420927234518268.\u001b[0m\n",
            "\u001b[32m[I 2021-03-09 23:23:29,171]\u001b[0m Trial 142 finished with value: -0.8351179028646157 and parameters: {'reg': 'pipe1', 'n_esti': 240, 'msl': 8, 'md': 11, 'mf': 0.10839268773203657, 'mln': 69, 'bs': False, 'mss': 10, 'cw': None}. Best is trial 91 with value: -0.8420927234518268.\u001b[0m\n",
            "\u001b[32m[I 2021-03-09 23:23:29,552]\u001b[0m Trial 143 finished with value: -0.8394663379296038 and parameters: {'reg': 'pipe1', 'n_esti': 270, 'msl': 8, 'md': 11, 'mf': 0.11586346672913411, 'mln': 60, 'bs': False, 'mss': 10, 'cw': None}. Best is trial 91 with value: -0.8420927234518268.\u001b[0m\n",
            "\u001b[32m[I 2021-03-09 23:23:29,945]\u001b[0m Trial 144 finished with value: -0.838022651305025 and parameters: {'reg': 'pipe1', 'n_esti': 304, 'msl': 8, 'md': 11, 'mf': 0.11668149440277127, 'mln': 59, 'bs': False, 'mss': 9, 'cw': None}. Best is trial 91 with value: -0.8420927234518268.\u001b[0m\n",
            "\u001b[32m[I 2021-03-09 23:23:30,308]\u001b[0m Trial 145 finished with value: -0.8358632646514412 and parameters: {'reg': 'pipe1', 'n_esti': 273, 'msl': 9, 'md': 12, 'mf': 0.1264472256094118, 'mln': 53, 'bs': False, 'mss': 10, 'cw': None}. Best is trial 91 with value: -0.8420927234518268.\u001b[0m\n",
            "\u001b[32m[I 2021-03-09 23:23:30,609]\u001b[0m Trial 146 finished with value: -0.8354848943093807 and parameters: {'reg': 'pipe1', 'n_esti': 199, 'msl': 8, 'md': 11, 'mf': 0.10811145054478283, 'mln': 64, 'bs': False, 'mss': 10, 'cw': None}. Best is trial 91 with value: -0.8420927234518268.\u001b[0m\n",
            "\u001b[32m[I 2021-03-09 23:23:30,905]\u001b[0m Trial 147 finished with value: -0.8204364583489498 and parameters: {'reg': 'pipe2', 'n_esti': 156, 'lr': 0.17848750519841566}. Best is trial 91 with value: -0.8420927234518268.\u001b[0m\n",
            "\u001b[32m[I 2021-03-09 23:23:31,693]\u001b[0m Trial 148 finished with value: -0.7797262995433658 and parameters: {'reg': 'pipe4', 'n_esti': 256, 'msl': 2, 'md': 10, 'mln': 45, 'mss': 17, 'lr': 0.7315186589319651}. Best is trial 91 with value: -0.8420927234518268.\u001b[0m\n",
            "\u001b[32m[I 2021-03-09 23:23:32,144]\u001b[0m Trial 149 finished with value: -0.832823382770188 and parameters: {'reg': 'pipe1', 'n_esti': 334, 'msl': 3, 'md': 11, 'mf': 0.144096581925103, 'mln': 38, 'bs': False, 'mss': 11, 'cw': None}. Best is trial 91 with value: -0.8420927234518268.\u001b[0m\n",
            "\n",
            "{'reg': 'pipe1', 'n_esti': 203, 'msl': 2, 'md': 5, 'mf': 0.11319753538834386, 'mln': 75, 'bs': True, 'mss': 12, 'cw': None}\n"
          ],
          "name": "stdout"
        },
        {
          "output_type": "execute_result",
          "data": {
            "text/html": [
              "<div>\n",
              "<style scoped>\n",
              "    .dataframe tbody tr th:only-of-type {\n",
              "        vertical-align: middle;\n",
              "    }\n",
              "\n",
              "    .dataframe tbody tr th {\n",
              "        vertical-align: top;\n",
              "    }\n",
              "\n",
              "    .dataframe thead th {\n",
              "        text-align: right;\n",
              "    }\n",
              "</style>\n",
              "<table border=\"1\" class=\"dataframe\">\n",
              "  <thead>\n",
              "    <tr style=\"text-align: right;\">\n",
              "      <th></th>\n",
              "      <th>number</th>\n",
              "      <th>value</th>\n",
              "      <th>datetime_start</th>\n",
              "      <th>datetime_complete</th>\n",
              "      <th>duration</th>\n",
              "      <th>params_bs</th>\n",
              "      <th>params_cw</th>\n",
              "      <th>params_l2</th>\n",
              "      <th>params_lr</th>\n",
              "      <th>params_md</th>\n",
              "      <th>params_mf</th>\n",
              "      <th>params_mln</th>\n",
              "      <th>params_msl</th>\n",
              "      <th>params_mss</th>\n",
              "      <th>params_n_esti</th>\n",
              "      <th>params_reg</th>\n",
              "      <th>state</th>\n",
              "    </tr>\n",
              "  </thead>\n",
              "  <tbody>\n",
              "    <tr>\n",
              "      <th>91</th>\n",
              "      <td>91</td>\n",
              "      <td>-0.842093</td>\n",
              "      <td>2021-03-09 23:23:07.767778</td>\n",
              "      <td>2021-03-09 23:23:08.123215</td>\n",
              "      <td>0 days 00:00:00.355437</td>\n",
              "      <td>True</td>\n",
              "      <td>None</td>\n",
              "      <td>NaN</td>\n",
              "      <td>NaN</td>\n",
              "      <td>5.0</td>\n",
              "      <td>0.113198</td>\n",
              "      <td>75.0</td>\n",
              "      <td>2.0</td>\n",
              "      <td>12.0</td>\n",
              "      <td>203.0</td>\n",
              "      <td>pipe1</td>\n",
              "      <td>COMPLETE</td>\n",
              "    </tr>\n",
              "    <tr>\n",
              "      <th>141</th>\n",
              "      <td>141</td>\n",
              "      <td>-0.841771</td>\n",
              "      <td>2021-03-09 23:23:28.487520</td>\n",
              "      <td>2021-03-09 23:23:28.809821</td>\n",
              "      <td>0 days 00:00:00.322301</td>\n",
              "      <td>False</td>\n",
              "      <td>None</td>\n",
              "      <td>NaN</td>\n",
              "      <td>NaN</td>\n",
              "      <td>11.0</td>\n",
              "      <td>0.105909</td>\n",
              "      <td>60.0</td>\n",
              "      <td>8.0</td>\n",
              "      <td>10.0</td>\n",
              "      <td>201.0</td>\n",
              "      <td>pipe1</td>\n",
              "      <td>COMPLETE</td>\n",
              "    </tr>\n",
              "    <tr>\n",
              "      <th>74</th>\n",
              "      <td>74</td>\n",
              "      <td>-0.840596</td>\n",
              "      <td>2021-03-09 23:22:47.085609</td>\n",
              "      <td>2021-03-09 23:22:48.435966</td>\n",
              "      <td>0 days 00:00:01.350357</td>\n",
              "      <td>True</td>\n",
              "      <td>None</td>\n",
              "      <td>NaN</td>\n",
              "      <td>NaN</td>\n",
              "      <td>6.0</td>\n",
              "      <td>0.100323</td>\n",
              "      <td>27.0</td>\n",
              "      <td>2.0</td>\n",
              "      <td>14.0</td>\n",
              "      <td>916.0</td>\n",
              "      <td>pipe1</td>\n",
              "      <td>COMPLETE</td>\n",
              "    </tr>\n",
              "    <tr>\n",
              "      <th>32</th>\n",
              "      <td>32</td>\n",
              "      <td>-0.840333</td>\n",
              "      <td>2021-03-09 23:22:21.759295</td>\n",
              "      <td>2021-03-09 23:22:22.190788</td>\n",
              "      <td>0 days 00:00:00.431493</td>\n",
              "      <td>False</td>\n",
              "      <td>None</td>\n",
              "      <td>NaN</td>\n",
              "      <td>NaN</td>\n",
              "      <td>11.0</td>\n",
              "      <td>0.113843</td>\n",
              "      <td>18.0</td>\n",
              "      <td>8.0</td>\n",
              "      <td>7.0</td>\n",
              "      <td>320.0</td>\n",
              "      <td>pipe1</td>\n",
              "      <td>COMPLETE</td>\n",
              "    </tr>\n",
              "    <tr>\n",
              "      <th>96</th>\n",
              "      <td>96</td>\n",
              "      <td>-0.839895</td>\n",
              "      <td>2021-03-09 23:23:10.785951</td>\n",
              "      <td>2021-03-09 23:23:11.247639</td>\n",
              "      <td>0 days 00:00:00.461688</td>\n",
              "      <td>True</td>\n",
              "      <td>None</td>\n",
              "      <td>NaN</td>\n",
              "      <td>NaN</td>\n",
              "      <td>7.0</td>\n",
              "      <td>0.115148</td>\n",
              "      <td>70.0</td>\n",
              "      <td>3.0</td>\n",
              "      <td>12.0</td>\n",
              "      <td>269.0</td>\n",
              "      <td>pipe1</td>\n",
              "      <td>COMPLETE</td>\n",
              "    </tr>\n",
              "    <tr>\n",
              "      <th>102</th>\n",
              "      <td>102</td>\n",
              "      <td>-0.839718</td>\n",
              "      <td>2021-03-09 23:23:14.385325</td>\n",
              "      <td>2021-03-09 23:23:14.764898</td>\n",
              "      <td>0 days 00:00:00.379573</td>\n",
              "      <td>True</td>\n",
              "      <td>None</td>\n",
              "      <td>NaN</td>\n",
              "      <td>NaN</td>\n",
              "      <td>5.0</td>\n",
              "      <td>0.100548</td>\n",
              "      <td>80.0</td>\n",
              "      <td>1.0</td>\n",
              "      <td>10.0</td>\n",
              "      <td>213.0</td>\n",
              "      <td>pipe1</td>\n",
              "      <td>COMPLETE</td>\n",
              "    </tr>\n",
              "    <tr>\n",
              "      <th>83</th>\n",
              "      <td>83</td>\n",
              "      <td>-0.839637</td>\n",
              "      <td>2021-03-09 23:22:57.853861</td>\n",
              "      <td>2021-03-09 23:22:59.246071</td>\n",
              "      <td>0 days 00:00:01.392210</td>\n",
              "      <td>True</td>\n",
              "      <td>None</td>\n",
              "      <td>NaN</td>\n",
              "      <td>NaN</td>\n",
              "      <td>3.0</td>\n",
              "      <td>0.115133</td>\n",
              "      <td>44.0</td>\n",
              "      <td>2.0</td>\n",
              "      <td>12.0</td>\n",
              "      <td>946.0</td>\n",
              "      <td>pipe1</td>\n",
              "      <td>COMPLETE</td>\n",
              "    </tr>\n",
              "    <tr>\n",
              "      <th>143</th>\n",
              "      <td>143</td>\n",
              "      <td>-0.839466</td>\n",
              "      <td>2021-03-09 23:23:29.173746</td>\n",
              "      <td>2021-03-09 23:23:29.552551</td>\n",
              "      <td>0 days 00:00:00.378805</td>\n",
              "      <td>False</td>\n",
              "      <td>None</td>\n",
              "      <td>NaN</td>\n",
              "      <td>NaN</td>\n",
              "      <td>11.0</td>\n",
              "      <td>0.115863</td>\n",
              "      <td>60.0</td>\n",
              "      <td>8.0</td>\n",
              "      <td>10.0</td>\n",
              "      <td>270.0</td>\n",
              "      <td>pipe1</td>\n",
              "      <td>COMPLETE</td>\n",
              "    </tr>\n",
              "    <tr>\n",
              "      <th>36</th>\n",
              "      <td>36</td>\n",
              "      <td>-0.839450</td>\n",
              "      <td>2021-03-09 23:22:23.179327</td>\n",
              "      <td>2021-03-09 23:22:23.404602</td>\n",
              "      <td>0 days 00:00:00.225275</td>\n",
              "      <td>False</td>\n",
              "      <td>None</td>\n",
              "      <td>NaN</td>\n",
              "      <td>NaN</td>\n",
              "      <td>10.0</td>\n",
              "      <td>0.103319</td>\n",
              "      <td>22.0</td>\n",
              "      <td>9.0</td>\n",
              "      <td>16.0</td>\n",
              "      <td>152.0</td>\n",
              "      <td>pipe1</td>\n",
              "      <td>COMPLETE</td>\n",
              "    </tr>\n",
              "    <tr>\n",
              "      <th>115</th>\n",
              "      <td>115</td>\n",
              "      <td>-0.839205</td>\n",
              "      <td>2021-03-09 23:23:19.566209</td>\n",
              "      <td>2021-03-09 23:23:19.864747</td>\n",
              "      <td>0 days 00:00:00.298538</td>\n",
              "      <td>False</td>\n",
              "      <td>None</td>\n",
              "      <td>NaN</td>\n",
              "      <td>NaN</td>\n",
              "      <td>7.0</td>\n",
              "      <td>0.144724</td>\n",
              "      <td>87.0</td>\n",
              "      <td>2.0</td>\n",
              "      <td>10.0</td>\n",
              "      <td>190.0</td>\n",
              "      <td>pipe1</td>\n",
              "      <td>COMPLETE</td>\n",
              "    </tr>\n",
              "  </tbody>\n",
              "</table>\n",
              "</div>"
            ],
            "text/plain": [
              "     number     value             datetime_start          datetime_complete  \\\n",
              "91       91 -0.842093 2021-03-09 23:23:07.767778 2021-03-09 23:23:08.123215   \n",
              "141     141 -0.841771 2021-03-09 23:23:28.487520 2021-03-09 23:23:28.809821   \n",
              "74       74 -0.840596 2021-03-09 23:22:47.085609 2021-03-09 23:22:48.435966   \n",
              "32       32 -0.840333 2021-03-09 23:22:21.759295 2021-03-09 23:22:22.190788   \n",
              "96       96 -0.839895 2021-03-09 23:23:10.785951 2021-03-09 23:23:11.247639   \n",
              "102     102 -0.839718 2021-03-09 23:23:14.385325 2021-03-09 23:23:14.764898   \n",
              "83       83 -0.839637 2021-03-09 23:22:57.853861 2021-03-09 23:22:59.246071   \n",
              "143     143 -0.839466 2021-03-09 23:23:29.173746 2021-03-09 23:23:29.552551   \n",
              "36       36 -0.839450 2021-03-09 23:22:23.179327 2021-03-09 23:22:23.404602   \n",
              "115     115 -0.839205 2021-03-09 23:23:19.566209 2021-03-09 23:23:19.864747   \n",
              "\n",
              "                  duration params_bs params_cw  params_l2  params_lr  \\\n",
              "91  0 days 00:00:00.355437      True      None        NaN        NaN   \n",
              "141 0 days 00:00:00.322301     False      None        NaN        NaN   \n",
              "74  0 days 00:00:01.350357      True      None        NaN        NaN   \n",
              "32  0 days 00:00:00.431493     False      None        NaN        NaN   \n",
              "96  0 days 00:00:00.461688      True      None        NaN        NaN   \n",
              "102 0 days 00:00:00.379573      True      None        NaN        NaN   \n",
              "83  0 days 00:00:01.392210      True      None        NaN        NaN   \n",
              "143 0 days 00:00:00.378805     False      None        NaN        NaN   \n",
              "36  0 days 00:00:00.225275     False      None        NaN        NaN   \n",
              "115 0 days 00:00:00.298538     False      None        NaN        NaN   \n",
              "\n",
              "     params_md  params_mf  params_mln  params_msl  params_mss  params_n_esti  \\\n",
              "91         5.0   0.113198        75.0         2.0        12.0          203.0   \n",
              "141       11.0   0.105909        60.0         8.0        10.0          201.0   \n",
              "74         6.0   0.100323        27.0         2.0        14.0          916.0   \n",
              "32        11.0   0.113843        18.0         8.0         7.0          320.0   \n",
              "96         7.0   0.115148        70.0         3.0        12.0          269.0   \n",
              "102        5.0   0.100548        80.0         1.0        10.0          213.0   \n",
              "83         3.0   0.115133        44.0         2.0        12.0          946.0   \n",
              "143       11.0   0.115863        60.0         8.0        10.0          270.0   \n",
              "36        10.0   0.103319        22.0         9.0        16.0          152.0   \n",
              "115        7.0   0.144724        87.0         2.0        10.0          190.0   \n",
              "\n",
              "    params_reg     state  \n",
              "91       pipe1  COMPLETE  \n",
              "141      pipe1  COMPLETE  \n",
              "74       pipe1  COMPLETE  \n",
              "32       pipe1  COMPLETE  \n",
              "96       pipe1  COMPLETE  \n",
              "102      pipe1  COMPLETE  \n",
              "83       pipe1  COMPLETE  \n",
              "143      pipe1  COMPLETE  \n",
              "36       pipe1  COMPLETE  \n",
              "115      pipe1  COMPLETE  "
            ]
          },
          "metadata": {
            "tags": []
          },
          "execution_count": 7
        }
      ]
    },
    {
      "cell_type": "code",
      "metadata": {
        "id": "r9JarfbkJeN6"
      },
      "source": [
        "# Collected best hyperparameters with some hand tuning\n",
        "params0 = dict(bootstrap=False, max_depth=19, max_features=0.1,\n",
        "               max_leaf_nodes=170, min_samples_split=10,\n",
        "               n_estimators=300, n_jobs=-1)\n",
        "\n",
        "params1 = {'n_estimators': 100,\n",
        "           'learning_rate': 0.129}\n",
        "\n",
        "params2 = {'min_samples_leaf': 10,\n",
        "           'max_depth': 1,\n",
        "           'max_leaf_nodes': 90,\n",
        "           'learning_rate': 0.49978304475143825,\n",
        "           'l2_regularization': 1.677161576446008e-05}\n",
        "\n",
        "params3 = {'min_samples_leaf': 13,\n",
        "           'max_depth': 2,\n",
        "           'max_leaf_nodes': 45,\n",
        "           'learning_rate': 0.27,\n",
        "           'l2_regularization': 6.711291}\n",
        "\n",
        "params4 = {'n_estimators': 130,\n",
        "           'learning_rate': 0.161163}\n",
        "\n",
        "params5 = {'n_estimators': 138,\n",
        "           'min_samples_leaf': 12,\n",
        "           'max_depth': 1,\n",
        "           'max_leaf_nodes': 103,\n",
        "           'min_samples_split': 19,\n",
        "           'learning_rate': 0.5245992478750252}\n",
        "\n",
        "params6 = {'n_estimators': 154,\n",
        "           'min_samples_leaf': 11,\n",
        "           'max_depth': 1,\n",
        "           'max_leaf_nodes': 119,\n",
        "           'min_samples_split': 10,\n",
        "           'learning_rate': 0.5707539214903328}\n",
        "\n",
        "params7 = {'n_estimators': 645,\n",
        "           'min_samples_leaf': 2,\n",
        "           'max_depth': 17,\n",
        "           'max_features': 0.17,\n",
        "           'max_leaf_nodes': 74,\n",
        "           'bootstrap': False,\n",
        "           'min_samples_split': 11,\n",
        "           'class_weight': None}"
      ],
      "execution_count": null,
      "outputs": []
    },
    {
      "cell_type": "code",
      "metadata": {
        "id": "P-YLZFHPJeN6"
      },
      "source": [
        "# Plus in hyperparameters into model pipelines\n",
        "\n",
        "# Candidate from 1st Randomized search\n",
        "pipe0 = Pipeline([('prep0', prep),\n",
        "                  ('clf0',\n",
        "                   RandomForestClassifier(**params0))])\n",
        "\n",
        "# Candidate from 2nd Randomized search\n",
        "pipe1 = Pipeline([('prep5', prep),\n",
        "                  ('clf',\n",
        "                   AdaBoostClassifier(**params1))])\n",
        "\n",
        "# Candidate from 1st Bayesian Optimization search\n",
        "pipe2 = Pipeline([('prep4', prep),\n",
        "                  ('clf', HistGradientBoostingClassifier(**params2))])\n",
        "\n",
        "# Candidate from 2nd Bayesian Optimization search\n",
        "\n",
        "pipe3 = Pipeline([('prep4', prep),\n",
        "                  ('clf',\n",
        "                   HistGradientBoostingClassifier(**params3))])\n",
        "\n",
        "# Candidate from 3rd Bayesian Optimization search\n",
        "\n",
        "pipe4 = Pipeline([('prep5', prep),\n",
        "                  ('clf',\n",
        "                   AdaBoostClassifier(**params4))])\n",
        "\n",
        "# Candidate from 4th Bayesian Optimization search\n",
        "pipe5 = Pipeline([('prep6', prep),\n",
        "                  ('clf',\n",
        "                   GradientBoostingClassifier(**params5))])\n",
        "\n",
        "# Candidate from 5th Bayesian Optimization search\n",
        "pipe6 = Pipeline([('prep6', prep),\n",
        "                  ('clf',\n",
        "                   GradientBoostingClassifier(**params6))])\n",
        "\n",
        "# Candidate from 6th Bayesian Optimization search\n",
        "pipe7 = Pipeline([('prep', prep),\n",
        "                  ('clf',\n",
        "                   RandomForestClassifier(**params7))])"
      ],
      "execution_count": null,
      "outputs": []
    },
    {
      "cell_type": "code",
      "metadata": {
        "id": "27LSi4l8JeN7"
      },
      "source": [
        "# compare performance with iterative cross-validation\n",
        "# to minimize effect of data split variance.\n",
        "scores = []\n",
        "for i in range(8):  # number of candidates\n",
        "    score = []\n",
        "    for j in range(11):  # number of iterations for each candidate\n",
        "        score.append(np.mean(cross_validate(globals()['pipe'+str(i)],\n",
        "                                            X_train, y_train, scoring='f1',\n",
        "                                            cv=5, n_jobs=-1)['test_score']))\n",
        "    scores.append((np.mean(score), np.std(score),\n",
        "                   'pipe' +\n",
        "                   str(i), type(\n",
        "                       (globals()['pipe'+str(i)]).steps[1][1]).__name__[:-10],\n",
        "                   (globals()['params'+str(i)])))"
      ],
      "execution_count": null,
      "outputs": []
    },
    {
      "cell_type": "code",
      "metadata": {
        "id": "zD4mm9AKJeN7"
      },
      "source": [
        "ranking = pd.DataFrame(scores,\n",
        "                       columns=['mean_score', 'std', 'estimator', 'type', 'param'])\\\n",
        "    .sort_values('mean_score', ascending=False)\\\n",
        "    .reset_index(drop=True)\\\n",
        "    .sort_values('type')"
      ],
      "execution_count": null,
      "outputs": []
    },
    {
      "cell_type": "code",
      "metadata": {
        "id": "AP-mhrVYJeN7",
        "outputId": "ab00e4d3-6b35-4919-c738-93e9583d6f77"
      },
      "source": [
        "pd.options.display.max_colwidth = 200\n",
        "ranking"
      ],
      "execution_count": null,
      "outputs": [
        {
          "output_type": "execute_result",
          "data": {
            "text/html": [
              "<div>\n",
              "<style scoped>\n",
              "    .dataframe tbody tr th:only-of-type {\n",
              "        vertical-align: middle;\n",
              "    }\n",
              "\n",
              "    .dataframe tbody tr th {\n",
              "        vertical-align: top;\n",
              "    }\n",
              "\n",
              "    .dataframe thead th {\n",
              "        text-align: right;\n",
              "    }\n",
              "</style>\n",
              "<table border=\"1\" class=\"dataframe\">\n",
              "  <thead>\n",
              "    <tr style=\"text-align: right;\">\n",
              "      <th></th>\n",
              "      <th>mean_score</th>\n",
              "      <th>std</th>\n",
              "      <th>estimator</th>\n",
              "      <th>type</th>\n",
              "      <th>param</th>\n",
              "    </tr>\n",
              "  </thead>\n",
              "  <tbody>\n",
              "    <tr>\n",
              "      <th>3</th>\n",
              "      <td>0.824813</td>\n",
              "      <td>0.000000e+00</td>\n",
              "      <td>pipe4</td>\n",
              "      <td>AdaBoost</td>\n",
              "      <td>{'n_estimators': 130, 'learning_rate': 0.161163}</td>\n",
              "    </tr>\n",
              "    <tr>\n",
              "      <th>7</th>\n",
              "      <td>0.821332</td>\n",
              "      <td>1.110223e-16</td>\n",
              "      <td>pipe1</td>\n",
              "      <td>AdaBoost</td>\n",
              "      <td>{'n_estimators': 100, 'learning_rate': 0.129}</td>\n",
              "    </tr>\n",
              "    <tr>\n",
              "      <th>5</th>\n",
              "      <td>0.823229</td>\n",
              "      <td>0.000000e+00</td>\n",
              "      <td>pipe6</td>\n",
              "      <td>GradientBoosting</td>\n",
              "      <td>{'n_estimators': 154, 'min_samples_leaf': 11, 'max_depth': 1, 'max_leaf_nodes': 119, 'min_samples_split': 10, 'learning_rate': 0.5707539214903328}</td>\n",
              "    </tr>\n",
              "    <tr>\n",
              "      <th>6</th>\n",
              "      <td>0.821701</td>\n",
              "      <td>0.000000e+00</td>\n",
              "      <td>pipe5</td>\n",
              "      <td>GradientBoosting</td>\n",
              "      <td>{'n_estimators': 138, 'min_samples_leaf': 12, 'max_depth': 1, 'max_leaf_nodes': 103, 'min_samples_split': 19, 'learning_rate': 0.5245992478750252}</td>\n",
              "    </tr>\n",
              "    <tr>\n",
              "      <th>2</th>\n",
              "      <td>0.830104</td>\n",
              "      <td>0.000000e+00</td>\n",
              "      <td>pipe3</td>\n",
              "      <td>HistGradientBoosting</td>\n",
              "      <td>{'min_samples_leaf': 13, 'max_depth': 2, 'max_leaf_nodes': 45, 'learning_rate': 0.27, 'l2_regularization': 6.711291}</td>\n",
              "    </tr>\n",
              "    <tr>\n",
              "      <th>4</th>\n",
              "      <td>0.824786</td>\n",
              "      <td>0.000000e+00</td>\n",
              "      <td>pipe2</td>\n",
              "      <td>HistGradientBoosting</td>\n",
              "      <td>{'min_samples_leaf': 10, 'max_depth': 1, 'max_leaf_nodes': 90, 'learning_rate': 0.49978304475143825, 'l2_regularization': 1.677161576446008e-05}</td>\n",
              "    </tr>\n",
              "    <tr>\n",
              "      <th>0</th>\n",
              "      <td>0.832748</td>\n",
              "      <td>3.381317e-03</td>\n",
              "      <td>pipe7</td>\n",
              "      <td>RandomForest</td>\n",
              "      <td>{'n_estimators': 645, 'min_samples_leaf': 2, 'max_depth': 17, 'max_features': 0.17, 'max_leaf_nodes': 74, 'bootstrap': False, 'min_samples_split': 11, 'class_weight': None}</td>\n",
              "    </tr>\n",
              "    <tr>\n",
              "      <th>1</th>\n",
              "      <td>0.831261</td>\n",
              "      <td>3.140749e-03</td>\n",
              "      <td>pipe0</td>\n",
              "      <td>RandomForest</td>\n",
              "      <td>{'bootstrap': False, 'max_depth': 19, 'max_features': 0.1, 'max_leaf_nodes': 170, 'min_samples_split': 10, 'n_estimators': 300, 'n_jobs': -1}</td>\n",
              "    </tr>\n",
              "  </tbody>\n",
              "</table>\n",
              "</div>"
            ],
            "text/plain": [
              "   mean_score           std estimator                  type  \\\n",
              "3    0.824813  0.000000e+00     pipe4              AdaBoost   \n",
              "7    0.821332  1.110223e-16     pipe1              AdaBoost   \n",
              "5    0.823229  0.000000e+00     pipe6      GradientBoosting   \n",
              "6    0.821701  0.000000e+00     pipe5      GradientBoosting   \n",
              "2    0.830104  0.000000e+00     pipe3  HistGradientBoosting   \n",
              "4    0.824786  0.000000e+00     pipe2  HistGradientBoosting   \n",
              "0    0.832748  3.381317e-03     pipe7          RandomForest   \n",
              "1    0.831261  3.140749e-03     pipe0          RandomForest   \n",
              "\n",
              "                                                                                                                                                                          param  \n",
              "3                                                                                                                              {'n_estimators': 130, 'learning_rate': 0.161163}  \n",
              "7                                                                                                                                 {'n_estimators': 100, 'learning_rate': 0.129}  \n",
              "5                            {'n_estimators': 154, 'min_samples_leaf': 11, 'max_depth': 1, 'max_leaf_nodes': 119, 'min_samples_split': 10, 'learning_rate': 0.5707539214903328}  \n",
              "6                            {'n_estimators': 138, 'min_samples_leaf': 12, 'max_depth': 1, 'max_leaf_nodes': 103, 'min_samples_split': 19, 'learning_rate': 0.5245992478750252}  \n",
              "2                                                          {'min_samples_leaf': 13, 'max_depth': 2, 'max_leaf_nodes': 45, 'learning_rate': 0.27, 'l2_regularization': 6.711291}  \n",
              "4                              {'min_samples_leaf': 10, 'max_depth': 1, 'max_leaf_nodes': 90, 'learning_rate': 0.49978304475143825, 'l2_regularization': 1.677161576446008e-05}  \n",
              "0  {'n_estimators': 645, 'min_samples_leaf': 2, 'max_depth': 17, 'max_features': 0.17, 'max_leaf_nodes': 74, 'bootstrap': False, 'min_samples_split': 11, 'class_weight': None}  \n",
              "1                                 {'bootstrap': False, 'max_depth': 19, 'max_features': 0.1, 'max_leaf_nodes': 170, 'min_samples_split': 10, 'n_estimators': 300, 'n_jobs': -1}  "
            ]
          },
          "metadata": {
            "tags": []
          },
          "execution_count": 12
        }
      ]
    },
    {
      "cell_type": "code",
      "metadata": {
        "id": "lSFSiPmcJeN8"
      },
      "source": [
        "# Automaticlly select best models\n",
        "best_rf = globals()[ranking[ranking['type'] == 'RandomForest'].iloc[0, 2]]\n",
        "best_ada = globals()[ranking[ranking['type'] == 'AdaBoost'].iloc[0, 2]]\n",
        "best_gbm = globals()[ranking[ranking['type']\n",
        "                             == 'GradientBoosting'].iloc[0, 2]]\n",
        "best_hist = globals()[ranking[ranking['type']\n",
        "                              == 'HistGradientBoosting'].iloc[0, 2]]"
      ],
      "execution_count": null,
      "outputs": []
    },
    {
      "cell_type": "code",
      "metadata": {
        "id": "dTGiw47HJeN8"
      },
      "source": [
        "# Best in each family:Random Forest, GBM, Hist GBM, AdaBoost\n",
        "estimators = [('p0', best_rf), ('p1', best_ada),\n",
        "              ('p2', best_gbm), ('p3', best_hist)]"
      ],
      "execution_count": null,
      "outputs": []
    },
    {
      "cell_type": "code",
      "metadata": {
        "id": "0nIzmEINJeN8"
      },
      "source": [
        "# stacked ensemble\n",
        "stack = StackingClassifier(estimators, cv=5, n_jobs=-1)"
      ],
      "execution_count": null,
      "outputs": []
    },
    {
      "cell_type": "code",
      "metadata": {
        "id": "JfwtxKjXJeN8"
      },
      "source": [
        "# voting ensemble\n",
        "vote = VotingClassifier(estimators, n_jobs=-1)"
      ],
      "execution_count": null,
      "outputs": []
    },
    {
      "cell_type": "code",
      "metadata": {
        "id": "zi5eFs28JeN8"
      },
      "source": [
        "# evaluate stacking and voting with cross validation\n",
        "scores = []\n",
        "for ensemble in ['stack', 'vote']:\n",
        "    score = []\n",
        "    for i in range(5):\n",
        "        score.append(np.mean(cross_validate(globals()[ensemble], X_train, y_train,\n",
        "                                            scoring='f1', cv=5, n_jobs=-1)\n",
        "                             ['test_score']))\n",
        "    scores.append((np.mean(score), np.std(score),\n",
        "                   ensemble, type((globals()[ensemble])).__name__[:-10],\n",
        "                   f'Ensemble of best Random Forest, GBM, Hist GBM and AdaBoost models'))"
      ],
      "execution_count": null,
      "outputs": []
    },
    {
      "cell_type": "code",
      "metadata": {
        "id": "j-ufoUnVJeN8"
      },
      "source": [
        "ranking2 = pd.DataFrame(scores,\n",
        "                        columns=['mean_score', 'std', 'estimator', 'type', 'param'])"
      ],
      "execution_count": null,
      "outputs": []
    },
    {
      "cell_type": "code",
      "metadata": {
        "id": "9MER2dJaJeN8"
      },
      "source": [
        "ranking_final = pd.concat([ranking, ranking2], axis=0)\\\n",
        ".sort_values('mean_score', ascending=False)\\\n",
        "            .reset_index(drop=True)\\"
      ],
      "execution_count": null,
      "outputs": []
    },
    {
      "cell_type": "code",
      "metadata": {
        "id": "6nc2ZxW3JeN9",
        "outputId": "281fad17-b79c-44e7-ef0b-eb3777ad3481"
      },
      "source": [
        "ranking_final"
      ],
      "execution_count": null,
      "outputs": [
        {
          "output_type": "execute_result",
          "data": {
            "text/html": [
              "<div>\n",
              "<style scoped>\n",
              "    .dataframe tbody tr th:only-of-type {\n",
              "        vertical-align: middle;\n",
              "    }\n",
              "\n",
              "    .dataframe tbody tr th {\n",
              "        vertical-align: top;\n",
              "    }\n",
              "\n",
              "    .dataframe thead th {\n",
              "        text-align: right;\n",
              "    }\n",
              "</style>\n",
              "<table border=\"1\" class=\"dataframe\">\n",
              "  <thead>\n",
              "    <tr style=\"text-align: right;\">\n",
              "      <th></th>\n",
              "      <th>mean_score</th>\n",
              "      <th>std</th>\n",
              "      <th>estimator</th>\n",
              "      <th>type</th>\n",
              "      <th>param</th>\n",
              "    </tr>\n",
              "  </thead>\n",
              "  <tbody>\n",
              "    <tr>\n",
              "      <th>0</th>\n",
              "      <td>0.832748</td>\n",
              "      <td>3.381317e-03</td>\n",
              "      <td>pipe7</td>\n",
              "      <td>RandomForest</td>\n",
              "      <td>{'n_estimators': 645, 'min_samples_leaf': 2, 'max_depth': 17, 'max_features': 0.17, 'max_leaf_nodes': 74, 'bootstrap': False, 'min_samples_split': 11, 'class_weight': None}</td>\n",
              "    </tr>\n",
              "    <tr>\n",
              "      <th>1</th>\n",
              "      <td>0.831261</td>\n",
              "      <td>3.140749e-03</td>\n",
              "      <td>pipe0</td>\n",
              "      <td>RandomForest</td>\n",
              "      <td>{'bootstrap': False, 'max_depth': 19, 'max_features': 0.1, 'max_leaf_nodes': 170, 'min_samples_split': 10, 'n_estimators': 300, 'n_jobs': -1}</td>\n",
              "    </tr>\n",
              "    <tr>\n",
              "      <th>2</th>\n",
              "      <td>0.830104</td>\n",
              "      <td>0.000000e+00</td>\n",
              "      <td>pipe3</td>\n",
              "      <td>HistGradientBoosting</td>\n",
              "      <td>{'min_samples_leaf': 13, 'max_depth': 2, 'max_leaf_nodes': 45, 'learning_rate': 0.27, 'l2_regularization': 6.711291}</td>\n",
              "    </tr>\n",
              "    <tr>\n",
              "      <th>3</th>\n",
              "      <td>0.827674</td>\n",
              "      <td>2.011502e-03</td>\n",
              "      <td>stack</td>\n",
              "      <td>Stacking</td>\n",
              "      <td>Ensemble of best Random Forest, GBM, Hist GBM and AdaBoost models</td>\n",
              "    </tr>\n",
              "    <tr>\n",
              "      <th>4</th>\n",
              "      <td>0.824813</td>\n",
              "      <td>0.000000e+00</td>\n",
              "      <td>pipe4</td>\n",
              "      <td>AdaBoost</td>\n",
              "      <td>{'n_estimators': 130, 'learning_rate': 0.161163}</td>\n",
              "    </tr>\n",
              "    <tr>\n",
              "      <th>5</th>\n",
              "      <td>0.824786</td>\n",
              "      <td>0.000000e+00</td>\n",
              "      <td>pipe2</td>\n",
              "      <td>HistGradientBoosting</td>\n",
              "      <td>{'min_samples_leaf': 10, 'max_depth': 1, 'max_leaf_nodes': 90, 'learning_rate': 0.49978304475143825, 'l2_regularization': 1.677161576446008e-05}</td>\n",
              "    </tr>\n",
              "    <tr>\n",
              "      <th>6</th>\n",
              "      <td>0.823229</td>\n",
              "      <td>0.000000e+00</td>\n",
              "      <td>pipe6</td>\n",
              "      <td>GradientBoosting</td>\n",
              "      <td>{'n_estimators': 154, 'min_samples_leaf': 11, 'max_depth': 1, 'max_leaf_nodes': 119, 'min_samples_split': 10, 'learning_rate': 0.5707539214903328}</td>\n",
              "    </tr>\n",
              "    <tr>\n",
              "      <th>7</th>\n",
              "      <td>0.822580</td>\n",
              "      <td>1.186932e-03</td>\n",
              "      <td>vote</td>\n",
              "      <td>Voting</td>\n",
              "      <td>Ensemble of best Random Forest, GBM, Hist GBM and AdaBoost models</td>\n",
              "    </tr>\n",
              "    <tr>\n",
              "      <th>8</th>\n",
              "      <td>0.821701</td>\n",
              "      <td>0.000000e+00</td>\n",
              "      <td>pipe5</td>\n",
              "      <td>GradientBoosting</td>\n",
              "      <td>{'n_estimators': 138, 'min_samples_leaf': 12, 'max_depth': 1, 'max_leaf_nodes': 103, 'min_samples_split': 19, 'learning_rate': 0.5245992478750252}</td>\n",
              "    </tr>\n",
              "    <tr>\n",
              "      <th>9</th>\n",
              "      <td>0.821332</td>\n",
              "      <td>1.110223e-16</td>\n",
              "      <td>pipe1</td>\n",
              "      <td>AdaBoost</td>\n",
              "      <td>{'n_estimators': 100, 'learning_rate': 0.129}</td>\n",
              "    </tr>\n",
              "  </tbody>\n",
              "</table>\n",
              "</div>"
            ],
            "text/plain": [
              "   mean_score           std estimator                  type  \\\n",
              "0    0.832748  3.381317e-03     pipe7          RandomForest   \n",
              "1    0.831261  3.140749e-03     pipe0          RandomForest   \n",
              "2    0.830104  0.000000e+00     pipe3  HistGradientBoosting   \n",
              "3    0.827674  2.011502e-03     stack              Stacking   \n",
              "4    0.824813  0.000000e+00     pipe4              AdaBoost   \n",
              "5    0.824786  0.000000e+00     pipe2  HistGradientBoosting   \n",
              "6    0.823229  0.000000e+00     pipe6      GradientBoosting   \n",
              "7    0.822580  1.186932e-03      vote                Voting   \n",
              "8    0.821701  0.000000e+00     pipe5      GradientBoosting   \n",
              "9    0.821332  1.110223e-16     pipe1              AdaBoost   \n",
              "\n",
              "                                                                                                                                                                          param  \n",
              "0  {'n_estimators': 645, 'min_samples_leaf': 2, 'max_depth': 17, 'max_features': 0.17, 'max_leaf_nodes': 74, 'bootstrap': False, 'min_samples_split': 11, 'class_weight': None}  \n",
              "1                                 {'bootstrap': False, 'max_depth': 19, 'max_features': 0.1, 'max_leaf_nodes': 170, 'min_samples_split': 10, 'n_estimators': 300, 'n_jobs': -1}  \n",
              "2                                                          {'min_samples_leaf': 13, 'max_depth': 2, 'max_leaf_nodes': 45, 'learning_rate': 0.27, 'l2_regularization': 6.711291}  \n",
              "3                                                                                                             Ensemble of best Random Forest, GBM, Hist GBM and AdaBoost models  \n",
              "4                                                                                                                              {'n_estimators': 130, 'learning_rate': 0.161163}  \n",
              "5                              {'min_samples_leaf': 10, 'max_depth': 1, 'max_leaf_nodes': 90, 'learning_rate': 0.49978304475143825, 'l2_regularization': 1.677161576446008e-05}  \n",
              "6                            {'n_estimators': 154, 'min_samples_leaf': 11, 'max_depth': 1, 'max_leaf_nodes': 119, 'min_samples_split': 10, 'learning_rate': 0.5707539214903328}  \n",
              "7                                                                                                             Ensemble of best Random Forest, GBM, Hist GBM and AdaBoost models  \n",
              "8                            {'n_estimators': 138, 'min_samples_leaf': 12, 'max_depth': 1, 'max_leaf_nodes': 103, 'min_samples_split': 19, 'learning_rate': 0.5245992478750252}  \n",
              "9                                                                                                                                 {'n_estimators': 100, 'learning_rate': 0.129}  "
            ]
          },
          "metadata": {
            "tags": []
          },
          "execution_count": 41
        }
      ]
    },
    {
      "cell_type": "code",
      "metadata": {
        "id": "-03X62_yJeN9"
      },
      "source": [
        "best_model = globals()[ranking_final.loc[0, 'estimator']]"
      ],
      "execution_count": null,
      "outputs": []
    },
    {
      "cell_type": "markdown",
      "metadata": {
        "id": "3Y29xQYdJeN9"
      },
      "source": [
        "<b>According to final scores,we chose this model below as our final model:</b>\n",
        "\n",
        "\n",
        "\n"
      ]
    },
    {
      "cell_type": "code",
      "metadata": {
        "id": "N9Wzng0RJeN9",
        "outputId": "5f247b7a-24d9-4783-9671-e4aa91809121"
      },
      "source": [
        "if type(best_model).__name__ == 'Pipeline':\n",
        "    print(f'Final model is a {type(best_model.steps[1][1]).__name__}')\n",
        "else:\n",
        "    print(f'Final model is a {type(best_model).__name__}')\n",
        "print()\n",
        "print(f'With preprocessing pipeline:\\n {prep}')\n",
        "print()\n",
        "print(f\"With hyperparameters:\\n{ranking_final.loc[0,'param']}\")"
      ],
      "execution_count": null,
      "outputs": [
        {
          "output_type": "stream",
          "text": [
            "Final model is a RandomForestClassifier\n",
            "\n",
            "With preprocessing pipeline:\n",
            " ColumnTransformer(transformers=[('conti',\n",
            "                                 Pipeline(steps=[('sca', StandardScaler()),\n",
            "                                                 ('imputer',\n",
            "                                                  SimpleImputer(strategy='median'))]),\n",
            "                                 [1, 4, 5, 6, 8, 9, 12]),\n",
            "                                ('cate',\n",
            "                                 Pipeline(steps=[('str',\n",
            "                                                  FunctionTransformer(func=<function <lambda> at 0x7fd0b8185ee0>)),\n",
            "                                                 ('imputer',\n",
            "                                                  SimpleImputer(fill_value='unknown',\n",
            "                                                                strategy='constant')),\n",
            "                                                 ('encoder',\n",
            "                                                  OneHotEncoder(handle_unknown='ignore'))]),\n",
            "                                 [0, 2, 3, 7, 9, 11, 13])])\n",
            "\n",
            "With hyperparameters:\n",
            "{'n_estimators': 645, 'min_samples_leaf': 2, 'max_depth': 17, 'max_features': 0.17, 'max_leaf_nodes': 74, 'bootstrap': False, 'min_samples_split': 11, 'class_weight': None}\n"
          ],
          "name": "stdout"
        }
      ]
    },
    {
      "cell_type": "code",
      "metadata": {
        "id": "AofaPXetJeN9",
        "outputId": "c73f232f-0604-4599-fceb-d4c4df5461c2"
      },
      "source": [
        "best_model.fit(X_train, y_train)"
      ],
      "execution_count": null,
      "outputs": [
        {
          "output_type": "execute_result",
          "data": {
            "text/plain": [
              "Pipeline(steps=[('prep',\n",
              "                 ColumnTransformer(transformers=[('conti',\n",
              "                                                  Pipeline(steps=[('sca',\n",
              "                                                                   StandardScaler()),\n",
              "                                                                  ('imputer',\n",
              "                                                                   SimpleImputer(strategy='median'))]),\n",
              "                                                  [1, 4, 5, 6, 8, 9, 12]),\n",
              "                                                 ('cate',\n",
              "                                                  Pipeline(steps=[('str',\n",
              "                                                                   FunctionTransformer(func=<function <lambda> at 0x7fd0b8185ee0>)),\n",
              "                                                                  ('imputer',\n",
              "                                                                   SimpleImputer(fill_value='unknown',\n",
              "                                                                                 strategy='constant')),\n",
              "                                                                  ('encoder',\n",
              "                                                                   OneHotEncoder(handle_unknown='ignore'))]),\n",
              "                                                  [0, 2, 3, 7, 9, 11, 13])])),\n",
              "                ('clf',\n",
              "                 RandomForestClassifier(bootstrap=False, max_depth=17,\n",
              "                                        max_features=0.17, max_leaf_nodes=74,\n",
              "                                        min_samples_leaf=2,\n",
              "                                        min_samples_split=11,\n",
              "                                        n_estimators=645))])"
            ]
          },
          "metadata": {
            "tags": []
          },
          "execution_count": 32
        }
      ]
    },
    {
      "cell_type": "markdown",
      "metadata": {
        "id": "KjA7EHYOJeN-"
      },
      "source": [
        "### Final evaluation on test set\n"
      ]
    },
    {
      "cell_type": "code",
      "metadata": {
        "id": "6SuTQ8wmJeN-"
      },
      "source": [
        "y_pred = best_model.predict(X_test)"
      ],
      "execution_count": null,
      "outputs": []
    },
    {
      "cell_type": "code",
      "metadata": {
        "id": "7gsZuAN3JeN-",
        "outputId": "5b29ee6b-da3e-4d2d-95a1-e1d81bacea03"
      },
      "source": [
        "f1score = f1_score(y_test, y_pred)\n",
        "print(f'F1 score for prediction on test set is {f1score:.4f}')"
      ],
      "execution_count": null,
      "outputs": [
        {
          "output_type": "stream",
          "text": [
            "F1 score for prediction on test set is 0.8561\n"
          ],
          "name": "stdout"
        }
      ]
    },
    {
      "cell_type": "code",
      "metadata": {
        "id": "0qN1ZCuuJeN-",
        "outputId": "b14aeacb-0643-4261-928b-a5a93de8434a"
      },
      "source": [
        "accuracy = accuracy_score(y_test, y_pred)\n",
        "print(f'Accuracy score for prediction on test set is {accuracy:.4f}')"
      ],
      "execution_count": null,
      "outputs": [
        {
          "output_type": "stream",
          "text": [
            "Accuracy score for prediction on test set is 0.8304\n"
          ],
          "name": "stdout"
        }
      ]
    },
    {
      "cell_type": "code",
      "metadata": {
        "id": "ci3NbRwPJeN-"
      },
      "source": [
        "r = permutation_importance(\n",
        "    best_model, X, y, scoring='f1', n_repeats=10, n_jobs=-1)"
      ],
      "execution_count": null,
      "outputs": []
    },
    {
      "cell_type": "code",
      "metadata": {
        "id": "4L0RYvu3JeN-",
        "outputId": "20a7146e-5cf0-4a74-d3b2-19d9fec64241"
      },
      "source": [
        "for i in r.importances_mean.argsort()[::-1]:\n",
        "    if r.importances_mean[i] - 2 * r.importances_std[i] > 0:\n",
        "        print(f\"{X.columns[i]:<8}\"\n",
        "              f\"{r.importances_mean[i]:.3f}\"\n",
        "              f\" ± {r.importances_std[i]:.3f}\")"
      ],
      "execution_count": null,
      "outputs": [
        {
          "output_type": "stream",
          "text": [
            "cp      0.067 ± 0.006\n",
            "exang   0.045 ± 0.006\n",
            "from    0.021 ± 0.002\n",
            "age     0.018 ± 0.003\n",
            "sex     0.018 ± 0.003\n",
            "thalach 0.017 ± 0.002\n",
            "thal    0.017 ± 0.003\n",
            "slope   0.017 ± 0.003\n",
            "chol    0.015 ± 0.004\n",
            "restecg 0.010 ± 0.002\n",
            "trestbps0.009 ± 0.002\n",
            "ca      0.008 ± 0.002\n",
            "fbs     0.004 ± 0.002\n"
          ],
          "name": "stdout"
        }
      ]
    },
    {
      "cell_type": "markdown",
      "metadata": {
        "id": "Ahys6xUvJeOH"
      },
      "source": [
        "### Conclusion"
      ]
    },
    {
      "cell_type": "markdown",
      "metadata": {
        "id": "3Rn9qZnoJeOH"
      },
      "source": [
        "Randomized hyperparameter search and bayesian optimization search are very useful to find decent hyperparameters quickly."
      ]
    },
    {
      "cell_type": "markdown",
      "metadata": {
        "id": "kJAJffr8JeOH"
      },
      "source": [
        "Tree ensembles are effective in tabular data prediction as it has plenty of mearsures to reduce overfit. And thet worked as expected in this project. Well-tuned Gradient Boost Machine works best in this case."
      ]
    },
    {
      "cell_type": "markdown",
      "metadata": {
        "id": "f1UIM_xWJeOH"
      },
      "source": [
        "The final model is decent to help doctors to diagnose if a patient has heart disease or not.\n",
        "And it shows that CP (chest pain type) and EXANG (exercise induced angina (1 = yes; 0 = no)) are the first 2 important factors in the diagnosis."
      ]
    },
    {
      "cell_type": "markdown",
      "metadata": {
        "id": "Tpt5ITFKJeOH"
      },
      "source": [
        "### Next steps"
      ]
    },
    {
      "cell_type": "markdown",
      "metadata": {
        "id": "Gxjj3y8RJeOH"
      },
      "source": [
        "Other ensembles such as Xgboost, catboost and lightgbm could be attempted in the future."
      ]
    }
  ]
}